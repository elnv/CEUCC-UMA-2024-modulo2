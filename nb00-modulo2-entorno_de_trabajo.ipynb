{
 "cells": [
  {
   "cell_type": "code",
   "execution_count": null,
   "id": "cdfc07da-b773-4048-a6b8-1258f41edd85",
   "metadata": {},
   "outputs": [],
   "source": [
    "# No olvidar que en \"Google colab\" hay que instalar qiskit\n",
    "\n",
    "########################\n",
    "# Instala versión 0.45.2\n",
    "########################\n",
    "# Importante, poner qiskit-aer en la misma linea de \"pip install\" para que coja la versión adecuada\n",
    "try:\n",
    "    import google.colab\n",
    "    print(\"In colab, let's install things...\")\n",
    "    #\n",
    "    !pip install qiskit[visualization]==0.45.2 qiskit-aer qiskit-ibm-runtime\n",
    "except ImportError:\n",
    "    print(\"NOT in colab\")"
   ]
  },
  {
   "cell_type": "markdown",
   "id": "72cbe6c4-1e81-48e0-8382-2f78310ffd82",
   "metadata": {},
   "source": [
    "Para una instalación local (NO en Google Colab), lo más cómodo es instalar el <a href=\"https://www.anaconda.com/download\">paquete Anaconda</a> y trabajar con un entorno con los paquetes python que necesitamos.\n",
    "\n",
    "Para ello, una vez instalado, en un terminal anaconda: crear un nuevo entorno conda en el que este cuadernillo sea utilizable (ojo! a las versiones) y lanzar el servidor de jupyter:\n",
    "```bash\n",
    "  conda create --name quiskit-0.45.2 python=3.11.7\n",
    "  conda activate quiskit-0.45.2\n",
    "  conda install numpy scipy sympy matplotlib jupyter jedi\n",
    "  pip install jupyterlab-mathjax2 # optional\n",
    "  pip install jupyterlab-unfold   # optional\n",
    "  pip install qiskit[visualization]==0.45.2 qiskit-aer qiskit-ibm-runtime\n",
    "  jupyter lab --no-browse --ip 127.0.0.1 --port 8888 /path/to/notebooks &\n",
    "  # O jupyter notebook:\n",
    "  #    jupyter notebook --no-browse --ip 127.0.0.1 --port 8888 /path/to/notebooks &\n",
    "  # Listar jupyter notebook o lab (para coger el token)\n",
    "  jupyter notebook list\n",
    "  # Si se quiere lanzar el browser con la página de jupyter al lanzar el sermidor\n",
    "  # omitir la opción \"--no-browser\"\n",
    "```"
   ]
  },
  {
   "cell_type": "markdown",
   "id": "62d7e586-7170-4233-b6f1-f4fef58c511f",
   "metadata": {},
   "source": [
    "### Chequeo de versiones"
   ]
  },
  {
   "cell_type": "code",
   "execution_count": 2,
   "id": "3aaf7268-89d0-4cbd-93d3-2d661fc12001",
   "metadata": {},
   "outputs": [
    {
     "data": {
      "text/html": [
       "<h3>Version Information</h3><table><tr><th>Software</th><th>Version</th></tr><tr><td><code>qiskit</code></td><td>0.45.2</td></tr><tr><td><code>qiskit_aer</code></td><td>0.14.2</td></tr><tr><th colspan='2'>System information</th></tr><tr><td>Python version</td><td>3.12.5</td></tr><tr><td>Python compiler</td><td>GCC 11.2.0</td></tr><tr><td>Python build</td><td>main, Sep 12 2024 18:27:27</td></tr><tr><td>OS</td><td>Linux</td></tr><tr><td>CPUs</td><td>12</td></tr><tr><td>Memory (Gb)</td><td>62.50071334838867</td></tr><tr><td colspan='2'>Sun Sep 22 12:06:51 2024 CEST</td></tr></table>"
      ],
      "text/plain": [
       "<IPython.core.display.HTML object>"
      ]
     },
     "metadata": {},
     "output_type": "display_data"
    },
    {
     "name": "stdout",
     "output_type": "stream",
     "text": [
      "Qiskit version 0.45.2\n",
      "Numpy version 1.26.4\n",
      "Scipy version 1.13.1\n"
     ]
    }
   ],
   "source": [
    "import qiskit\n",
    "from qiskit_aer import AerSimulator\n",
    "import qiskit.tools.jupyter\n",
    "%qiskit_version_table\n",
    "print('Qiskit version', qiskit.__version__)\n",
    "import numpy\n",
    "import scipy\n",
    "print(\"Numpy version\", numpy.__version__)\n",
    "print(\"Scipy version\", scipy.__version__)"
   ]
  }
 ],
 "metadata": {
  "kernelspec": {
   "display_name": "Python 3 (ipykernel)",
   "language": "python",
   "name": "python3"
  },
  "language_info": {
   "codemirror_mode": {
    "name": "ipython",
    "version": 3
   },
   "file_extension": ".py",
   "mimetype": "text/x-python",
   "name": "python",
   "nbconvert_exporter": "python",
   "pygments_lexer": "ipython3",
   "version": "3.12.5"
  }
 },
 "nbformat": 4,
 "nbformat_minor": 5
}
