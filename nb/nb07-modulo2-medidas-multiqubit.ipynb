{
 "cells": [
  {
   "cell_type": "code",
   "execution_count": null,
   "id": "cdfc07da-b773-4048-a6b8-1258f41edd85",
   "metadata": {},
   "outputs": [],
   "source": [
    "# No olvidar que en \"google colab\" hay que instalar qiskit\n",
    "\n",
    "########################\n",
    "# Instala versión 0.45.2\n",
    "########################\n",
    "# Importante, poner qiskit-aer en la misma linea de \"pip install\" para que coja la versión adecuada\n",
    "try:\n",
    "    import google.colab\n",
    "    print(\"In colab, let's install things...\")\n",
    "    #\n",
    "    !pip install qiskit[visualization]==0.45.2 qiskit-aer qiskit-ibm-runtime\n",
    "except ImportError:\n",
    "    print(\"NOT in colab\")"
   ]
  },
  {
   "cell_type": "markdown",
   "id": "ae2c465a-5e5e-4e68-a4f1-b2249651ceb9",
   "metadata": {},
   "source": [
    "<a id='sec_Notebooks_Circ_1_qubit'></a>\n",
    "# Medidas en circuitos multiqubit\n",
    "$\\newcommand{\\ket}[1]{|#1\\rangle}$"
   ]
  },
  {
   "cell_type": "code",
   "execution_count": null,
   "id": "0e7883d6-0e8f-4f24-af8f-228c4c79e46f",
   "metadata": {},
   "outputs": [],
   "source": [
    "from IPython.display import display, Latex, Markdown\n",
    "from matplotlib import pyplot as plt\n",
    "import scipy.linalg as la\n",
    "import numpy as np"
   ]
  },
  {
   "cell_type": "code",
   "execution_count": null,
   "id": "83412cb3-3dac-4059-b2c1-ab9eb7e07fd4",
   "metadata": {},
   "outputs": [],
   "source": [
    "from qiskit.quantum_info import Statevector\n",
    "from qiskit.circuit import QuantumRegister, ClassicalRegister,QuantumCircuit\n",
    "from qiskit_aer import AerSimulator\n",
    "from qiskit import transpile\n",
    "from qiskit.quantum_info import Statevector, schmidt_decomposition\n",
    "from qiskit.visualization import plot_histogram, plot_bloch_multivector, plot_state_qsphere, array_to_latex  "
   ]
  },
  {
   "cell_type": "code",
   "execution_count": null,
   "id": "81085c07-f2a3-46e0-b2fe-6752b86069b3",
   "metadata": {},
   "outputs": [],
   "source": [
    "simulador = AerSimulator(method = 'statevector')"
   ]
  },
  {
   "cell_type": "code",
   "execution_count": null,
   "id": "8b677d21-8a76-4ff6-ba66-869a863e3ce5",
   "metadata": {},
   "outputs": [],
   "source": [
    "# Utilería acumulada\n",
    "\n",
    "# Definimos una función para visualizar el estado y la esfera a la vez\n",
    "# Permite escalar la(s) esferas(s) con 'inches' pulgadas, si este parámetro\n",
    "# no se pone, se dibuja al tamaño por defecto\n",
    "# Si se pone 0, no se dibuja la esfera\n",
    "def my_display_state_vector(psi, inches=None, prefix=r\"|\\psi\\rangle = \"):\n",
    "    if isinstance(psi, Statevector):\n",
    "        d_latex = psi.draw('latex', prefix=prefix)\n",
    "        display(d_latex)\n",
    "        #\n",
    "        d_bloch = psi.draw('bloch')\n",
    "        if isinstance(inches, (int,float)):\n",
    "            if inches > 0:\n",
    "                d_bloch.set_size_inches(inches, inches, forward=True)\n",
    "                display(d_bloch)\n",
    "        else:\n",
    "            display(d_bloch)\n",
    "\n",
    "#----------------------------------------------------------\n",
    "\n",
    "# Función para simular un circuito con el método \"statevector\"\n",
    "# Devuelve el resultado de la simulación\n",
    "def my_circuit_simulate_statevector(qcirc, shots=1):\n",
    "    # Instancia del simulador\n",
    "    sim = AerSimulator(method = \"statevector\")\n",
    "     \n",
    "    # Hacemos una simulación y obtenemos los resultados\n",
    "    qobj = transpile(qcirc, backend=sim)\n",
    "    result = sim.run(qobj, shots=shots).result()\n",
    "    \n",
    "    return result\n",
    "    \n",
    "# Función para simular un circuito con el método \"unitary\"\n",
    "# Devuelve el resultado de la simulación\n",
    "def my_circuit_simulate_unitary(qcirc, shots=1):\n",
    "    # Instancia del simulador\n",
    "    sim = AerSimulator(method = \"unitary\")\n",
    "     \n",
    "    # Hacemos una simulación y obtenemos los resultados\n",
    "    qobj = transpile(qcirc, backend=sim)\n",
    "    result = sim.run(qobj, shots=shots).result()\n",
    "    \n",
    "    return result\n",
    "    \n",
    "#----------------------------------------------------------\n",
    "\n",
    "# Función para obtener el vector de estado final de un cirucito dado\n",
    "# usando la simulación de vector de estado.\n",
    "# Devuelve esta tupla de 3 elementos:\n",
    "#         (estado final, cuenta, resultado)\n",
    "def my_get_circuit_state(qcirc_in, shots=1, final_probe=True):\n",
    "    # Hacemos una copia ya que vamos a cambiar el objeto circuito\n",
    "    qcirc = qcirc_in.copy()\n",
    "    \n",
    "    # Ponemos el \"probe\" para el vector de estado al final\n",
    "    # del cirucito dado\n",
    "    # ojo! el circuito no debe de tener un \"save_statevector\" ya!\n",
    "    if final_probe:\n",
    "        qcirc.save_statevector()\n",
    "    \n",
    "    # Hacemos una simulación y obtenemos los resultados\n",
    "    result = my_circuit_simulate_statevector(qcirc, shots)\n",
    "    state = None\n",
    "    if final_probe:\n",
    "        state = result.get_statevector()\n",
    "    counts = result.get_counts()\n",
    "    \n",
    "    return state, counts, result\n",
    "\n",
    "# Función para obtener la matriz unitaria final de un cirucito dado\n",
    "# usando la simulación de matriz unitaria.\n",
    "# Devuelve esta tupla de 2 elementos:\n",
    "#         (unitary, resultado)\n",
    "def my_get_circuit_unitary(qcirc_in, shots=1, final_probe=True):\n",
    "    # Hacemos una copia ya que vamos a cambiar el objeto circuito\n",
    "    qcirc = qcirc_in.copy()\n",
    "    \n",
    "    # Ponemos el \"probe\" para el vector de estado al final\n",
    "    # del cirucito dado\n",
    "    # ojo! el circuito no debe de tener un \"save_statevector\" ya!\n",
    "    if final_probe:\n",
    "        qcirc.save_unitary()\n",
    "    \n",
    "    # Hacemos una simulación y obtenemos los resultados\n",
    "    result = my_circuit_simulate_unitary(qcirc, shots)\n",
    "    unitary = result.get_unitary()\n",
    "    \n",
    "    return unitary, result\n"
   ]
  },
  {
   "cell_type": "markdown",
   "id": "c450ec8a-a623-4054-912a-5596255d62c6",
   "metadata": {},
   "source": [
    "<a id='sec_Notebooks_Medidas_II_1'></a>\n",
    "## Medidas de Pauli\n"
   ]
  },
  {
   "cell_type": "code",
   "execution_count": null,
   "id": "3df5f7b5-895d-4fb7-bf2e-be54d3a74850",
   "metadata": {},
   "outputs": [],
   "source": [
    "def add_Pauli_measurement(circuit,paulistring):\n",
    "    \n",
    "    assert(circuit.num_qubits==len(paulistring))\n",
    "    \n",
    "    len_string = len(paulistring)\n",
    "    \n",
    "    for i in range(len(paulistring)):\n",
    "    #for i,basis in enumerate(paulistring)):\n",
    "        if  paulistring[len_string -1 - i] == 'X':\n",
    "            circuit.h(i)    \n",
    "            circuit.measure(i, i)\n",
    "        elif paulistring[len(paulistring) -1 - i] == 'Z':\n",
    "            circuit.measure(i, i)\n",
    "            pass    \n",
    "        elif paulistring[len(paulistring) -1 - i] == 'Y':\n",
    "            circuit.sdg(i)\n",
    "            circuit.h(i)\n",
    "            circuit.measure(i, i)\n",
    "    return circuit\n",
    "\n"
   ]
  },
  {
   "cell_type": "code",
   "execution_count": null,
   "id": "a6e0388f-c204-41b4-9a4e-71921f474040",
   "metadata": {},
   "outputs": [],
   "source": [
    "circuit_Pauli = QuantumCircuit(4,4)\n",
    "add_Pauli_measurement(circuit_Pauli,'ZXYX')  # probar a cambiar el aparato de medida\n",
    "circuit_Pauli.draw('mpl',style=\"iqp\")"
   ]
  },
  {
   "cell_type": "markdown",
   "id": "0ede5441-e411-4d95-bb93-509d0338b666",
   "metadata": {},
   "source": [
    "<a id='sec_Notebooks_Medidas_II_2'></a>\n",
    "## Medidas de Bell\n"
   ]
  },
  {
   "cell_type": "code",
   "execution_count": null,
   "id": "dd64a6eb-55ed-49dd-865e-69a1204c8518",
   "metadata": {},
   "outputs": [],
   "source": [
    "def add_Bell_measurement(circuit):  \n",
    "    circuit.cx(0,1)\n",
    "    circuit.h(0)\n",
    "    circuit.measure_all()\n",
    "    \n",
    "# definimos la base de Bell\n",
    "B00 = np.array([1,0,0,1]/np.sqrt(2))\n",
    "B01 = np.array([1,0,0,-1]/np.sqrt(2))\n",
    "B10 = np.array([0,1,1,0]/np.sqrt(2))\n",
    "B11 = np.array([0,1,-1,0]/np.sqrt(2))"
   ]
  },
  {
   "cell_type": "code",
   "execution_count": null,
   "id": "318d2bf9-7e19-4b15-8068-c95c362deb3d",
   "metadata": {},
   "outputs": [],
   "source": [
    "# Definimos el registro\n",
    "quantum_reg = QuantumRegister(2, 'q')\n",
    "\n",
    "# creamos el circuito\n",
    "circuit_bell         = QuantumCircuit(quantum_reg)\n",
    "circuit_bell_measure = QuantumCircuit(quantum_reg)\n",
    "\n",
    "##########################################\n",
    "# Inicialización: Jugar a comentar y descomentar por pares\n",
    "\n",
    "#circuit_bell.initialize(B00, quantum_reg)\n",
    "#circuit_bell_measure.initialize(B00, quantum_reg)\n",
    "\n",
    "#circuit_bell.initialize(B01, quantum_reg)\n",
    "#circuit_bell_measure.initialize(B01, quantum_reg)\n",
    "\n",
    "circuit_bell.initialize(B10, quantum_reg)\n",
    "circuit_bell_measure.initialize(B10, quantum_reg)\n",
    "\n",
    "#circuit_bell.initialize(B11, quantum_reg)\n",
    "#circuit_bell_measure.initialize(B11, quantum_reg)\n",
    "\n",
    "###########################################\n",
    "\n",
    "# añadimos el medidor en la base de Bell\n",
    "circuit_bell.measure_all()\n",
    "add_Bell_measurement(circuit_bell_measure)"
   ]
  },
  {
   "cell_type": "code",
   "execution_count": null,
   "id": "68dd36d8-8422-490d-85d7-ad0e113d68ba",
   "metadata": {},
   "outputs": [],
   "source": [
    "display(\"Bell circuit\", circuit_bell.draw('mpl', style=\"iqp\"))\n",
    "display(\"Bell measurement circuit\", circuit_bell_measure.draw('mpl', style=\"iqp\"))"
   ]
  },
  {
   "cell_type": "code",
   "execution_count": null,
   "id": "df3754c1-f60d-41e7-9ce3-012b2b23d6d3",
   "metadata": {},
   "outputs": [],
   "source": [
    "# Medimos en el circuito con los medidores estándar\n",
    "s, c, r = my_get_circuit_state(circuit_bell, shots=1000)\n",
    "\n",
    "counts_bell = c\n",
    "display(counts_bell)"
   ]
  },
  {
   "cell_type": "code",
   "execution_count": null,
   "id": "ea3203b5-2759-4fd6-8da2-a6731a993244",
   "metadata": {},
   "outputs": [],
   "source": [
    "# Medimos en el circuito con el medidor de Bell\n",
    "s, c, r = my_get_circuit_state(circuit_bell_measure, shots=1000)\n",
    "\n",
    "counts_bell_measure = c\n",
    "display(counts_bell_measure)"
   ]
  },
  {
   "cell_type": "markdown",
   "id": "e19b1a2e-3e66-4f17-a716-c84cbc377401",
   "metadata": {},
   "source": [
    "<a id='sec_Notebooks_Medidas_II_3'></a>\n",
    "## Valor esperado de una cadena de Pauli"
   ]
  },
  {
   "cell_type": "markdown",
   "id": "1ffc7b43-7a1f-4b2f-8912-591720248394",
   "metadata": {},
   "source": [
    "Veamos cómo calcular el valor esperado del operador\n",
    "\n",
    "$$\n",
    "\\langle Z\\otimes Z\\otimes Z\\rangle_\\Psi  = \\langle \\Psi |   Z\\otimes Z\\otimes Z |\\Psi \\rangle\n",
    "$$\n",
    "\n",
    "en el siguiente estado\n",
    "\n",
    "$$\n",
    "|\\psi> = \\frac{i}{4}|000>+\\frac{1}{\\sqrt{8}}|001>+\\frac{1+i}{4}|010>+\\frac{1+2i}{\\sqrt{8}}|101>+\\frac{1}{4}|110>\n",
    "$$"
   ]
  },
  {
   "cell_type": "markdown",
   "id": "a4c83dca-a9ce-476f-83ed-cff68b53a547",
   "metadata": {},
   "source": [
    "Primero lo inicializamos"
   ]
  },
  {
   "cell_type": "code",
   "execution_count": null,
   "id": "79228fde-a9c0-417c-a7a7-0fac0a62e40c",
   "metadata": {},
   "outputs": [],
   "source": [
    "input_vector = [1/4*1J,1/np.sqrt(8)*(1+0J),1/4*(1+1J),0,0,1/np.sqrt(8)*(1+2J),1/4,0]\n",
    "\n",
    "# normalizaremos a la unidad por si acaso no está normalizado\n",
    "input_vector /= np.linalg.norm(input_vector)\n",
    "print('norma=',np.linalg.norm(input_vector))\n",
    "\n",
    "Statevector(input_vector).draw('latex')"
   ]
  },
  {
   "attachments": {},
   "cell_type": "markdown",
   "id": "2ccf1c84-caf0-480a-b9f3-cbe677309757",
   "metadata": {},
   "source": [
    "$ \\newcommand{\\bra}[1]{\\langle #1|} $\n",
    "$ \\newcommand{\\ket}[1]{|#1\\rangle} $\n",
    "$ \\newcommand{\\braket}[2]{\\langle #1|#2\\rangle} $\n",
    "$ \\newcommand{\\i}{{\\color{blue} i}} $ \n",
    "$ \\newcommand{\\Hil}{{\\mathbb H}} $\n",
    "$ \\newcommand{\\boldn}{{\\bf n}} $\n",
    "$ \\newcommand{\\tr}{{\\rm tr}}$\n",
    "\n",
    "Dado que $Z\\ket{a} = (-1)^a\\ket{a}$ donde $a=0,1$, entonces tendremos que, sobre un estado $\\ket{abc}$ de la base computacional\n",
    "\n",
    "$$\n",
    "Z\\otimes Z\\otimes Z \\ket{abc} = Z\\ket{a}\\otimes Z\\ket{b}\\otimes Z\\ket{c} = (-1)^{a+b+c}\\ket{abc}\n",
    "$$\n",
    "\n",
    "por lo que el valor esperado  de este operador es\n",
    "\\begin{eqnarray}\n",
    "\\langle Z\\otimes Z\\otimes Z\\rangle_\\Psi &=&\n",
    "\\sum_{a,b,c=0,1} (-1)^{a+b+c} P(a,b,c) \\nonumber\\\\ \\rule{0mm}{10mm}\n",
    "&=& \\sum_{a,b,c=0,1}(-1)^{a+b+c}\\big|\\bra{abc}\\Psi\\rangle\\big|^2 \n",
    "\\end{eqnarray}"
   ]
  },
  {
   "cell_type": "markdown",
   "id": "ff229cd0-6752-46b8-847c-dca2e55c74c2",
   "metadata": {},
   "source": [
    "El circuito que calcula las probabilidades necesarias es el siguiente"
   ]
  },
  {
   "cell_type": "code",
   "execution_count": null,
   "id": "aca9b0f1-75fc-4574-a319-d8b1df5b4f17",
   "metadata": {},
   "outputs": [],
   "source": [
    "qr = QuantumRegister(3, 'q')\n",
    "cr = ClassicalRegister(3, 'm')\n",
    "qc_Pauli = QuantumCircuit(qr,cr)\n",
    "\n",
    "# inicializar el circuito al vector anterior\n",
    "qc_Pauli.initialize(input_vector, qr)\n",
    "\n",
    "# añadimos los medidores estándar (Z)\n",
    "qc_Pauli.measure(qr,cr)\n",
    "\n",
    "qc_Pauli.draw(output='mpl', style=\"iqp\")"
   ]
  },
  {
   "cell_type": "code",
   "execution_count": null,
   "id": "22979fc1-2b82-445a-ab4e-9cbc26c6172f",
   "metadata": {},
   "outputs": [],
   "source": [
    "# simulamos el circuito\n",
    "s, c, r = my_get_circuit_state(qc_Pauli, shots=10000)\n",
    "counts_qc_Pauli = c\n",
    "display(counts_qc_Pauli)"
   ]
  },
  {
   "cell_type": "code",
   "execution_count": null,
   "id": "c285af1f-63e4-4a63-a774-2253d8e0c3d6",
   "metadata": {},
   "outputs": [],
   "source": [
    "# Vamos a definir unas funciones de apoyo para\n",
    "# calcular la media y la desviación estándard (sigma)\n",
    "\n",
    "# Este es el valor de la variable aleatoria\n",
    "# a partir de una cadena binaria (si hay un número\n",
    "# par de unos devuelve 1, si no -1):\n",
    "#     '010' -> (-1)^0 * (-1)^1 * (-1)^0\n",
    "def val(bitstring):\n",
    "    i = int(bitstring,2)\n",
    "    v = 1\n",
    "    while i:\n",
    "        v *= (-1)**(i & 1)\n",
    "        i = i>>1\n",
    "    return v\n",
    "\n",
    "# Toma un histograma en formato diccionario tal como\n",
    "# lo devuelve get_counts() y lo transforma en otro diccionario\n",
    "# con las frecuencias relativas (distribución\n",
    "# de probabilidad)\n",
    "def count2prob(counts, nd=3):\n",
    "    N = 0\n",
    "    for i in counts.items():\n",
    "        N += i[1]\n",
    "    prob = {}\n",
    "    for i in counts.items():\n",
    "        prob[i[0]] = np.round(i[1]/N, nd)\n",
    "    return prob   \n",
    "\n",
    "# Devuelve la media y la desviación estándar a partir de la cuenta\n",
    "# en un par:\n",
    "#    (media, sigma)\n",
    "def count2avg(counts, nd=3):\n",
    "    prob = count2prob(counts, nd*2)\n",
    "    avg = 0  # media\n",
    "    avg2 = 0 # media de los cuadrados\n",
    "    for bits,p in prob.items():\n",
    "        avg  += p * val(bits)\n",
    "        avg2 += p * val(bits)**2\n",
    "    var = avg2 - avg**2 # expresión de la varianza\n",
    "    sigma = np.sqrt(var)\n",
    "    return np.round(avg,nd), np.round(sigma,nd)\n",
    "\n"
   ]
  },
  {
   "cell_type": "code",
   "execution_count": null,
   "id": "e5ce2b80-f31e-4777-8d09-11dfe1cd3000",
   "metadata": {},
   "outputs": [],
   "source": [
    "expected, sigma = count2avg(counts_qc_Pauli, 3)\n",
    "print(f\"<ZZZ>={expected} sigma={sigma}\")"
   ]
  },
  {
   "cell_type": "markdown",
   "id": "ee39cbd3-c875-4faa-b41e-2675de154c44",
   "metadata": {},
   "source": [
    "<div style=\"background-color:#c8e6c9\">  \n",
    "<hr>    \n",
    "<b>Ejercicio</b>:\n",
    "<br>        \n",
    "Calcula el valor esperado de $\\langle X\\otimes Y\\otimes Z\\rangle_\\Psi$  \n",
    "<hr>\n",
    "</div>"
   ]
  },
  {
   "cell_type": "markdown",
   "id": "132958ba-a0ca-4c3a-8743-8e7b9b4d63e3",
   "metadata": {},
   "source": [
    "<div style=\"background-color:#c8e6c9\"> \n",
    "<hr>    \n",
    "<b>Ejercicio</b>:\n",
    "<br>        \n",
    "    \n",
    "Considera el hamiltoniano $H=A(X\\otimes X + Y \\otimes Y + Z \\otimes Z)$ siendo $A$ una constante real medida en eV.\n",
    "\n",
    "Calcular el valor esperado de la energía $E = \\langle H\\rangle_\\Psi$  en los cuatro estados de Bell\n",
    "$\\ket{\\Psi} = \\ket{B_{ij}}$. \n",
    "<hr>\n",
    "</div>"
   ]
  },
  {
   "cell_type": "markdown",
   "id": "b211a745-7f1b-4f41-9083-a80d8575e28a",
   "metadata": {},
   "source": [
    "<a id='sec_Notebooks_Medidas_II_4'></a>\n",
    "## Test de Hadamard"
   ]
  },
  {
   "cell_type": "markdown",
   "id": "99fb40ae-a488-4bb7-880c-d88679f57125",
   "metadata": {},
   "source": [
    "<a id='sec_Notebooks_Medidas_II_4.1'></a>\n",
    "### Valor esperado de un operador a partir de $\\langle X \\rangle$ y $\\langle Y \\rangle$"
   ]
  },
  {
   "cell_type": "markdown",
   "id": "5b733273-ec25-4600-97f2-953d64c910ef",
   "metadata": {},
   "source": [
    "En este ejemplo\n",
    "vamos a ver la aplicación del conocido como _test de Hadamard_,\n",
    "que permite calcular el valor esperado de un operador unitario.\n",
    "\n",
    "Tomaremos el ejemplo del operador $U=Z\\otimes Z \\otimes Z$."
   ]
  },
  {
   "cell_type": "code",
   "execution_count": null,
   "id": "51b97de8-17ee-479f-90de-4dfb48ecf16b",
   "metadata": {},
   "outputs": [],
   "source": [
    "qr = QuantumRegister(3, name = 'qr')\n",
    "qra = QuantumRegister(1, name = 'ancilla')\n",
    "cr = ClassicalRegister(1)"
   ]
  },
  {
   "cell_type": "markdown",
   "id": "66318eff-3a47-4824-9c75-fee7760189df",
   "metadata": {},
   "source": [
    "Creamos un operador controlado a partir de un circuito con el método `to_gate().control()`"
   ]
  },
  {
   "cell_type": "code",
   "execution_count": null,
   "id": "92457cb2-5362-4c6d-90fe-cb39b46d75c2",
   "metadata": {
    "scrolled": true
   },
   "outputs": [],
   "source": [
    "circuit_U = QuantumCircuit(qr)\n",
    "circuit_U.x(qr)\n",
    "#circuit_U.x([1])\n",
    "#circuit_U.x([0,2])\n",
    "\n",
    "U_c_gate = circuit_U.to_gate(label='CXXX').control(1,ctrl_state= 1)\n",
    "circuit_U.draw('mpl', scale=0.7, style=\"iqp\")"
   ]
  },
  {
   "cell_type": "markdown",
   "id": "2516500d-52ed-4af5-b4a0-52e37ddc65e5",
   "metadata": {},
   "source": [
    "Creamos el circuito con el operador controlado"
   ]
  },
  {
   "cell_type": "code",
   "execution_count": null,
   "id": "df892c17-99cd-4321-80ee-fd49a4fd8a91",
   "metadata": {},
   "outputs": [],
   "source": [
    "input_vector = [1/4*1J, 1/np.sqrt(8)*(1+0J), 1/4*(1+1J), 0, 0, 1/np.sqrt(8)*(1+2J), 1/4,0]\n",
    "#input_vector = [1, -3j+2, -17j, 150,     -49, -13, -13+1j, 0]\n",
    "input_vector /= np.linalg.norm(input_vector)\n",
    "\n",
    "circuit_Had = QuantumCircuit(qra, qr, cr)\n",
    "circuit_Had.initialize(input_vector,qr)\n",
    "#\n",
    "circuit_Had.barrier()\n",
    "#\n",
    "circuit_Had.h(qra)  \n",
    "circuit_Had.append(U_c_gate, qra[:] + qr[:])\n",
    "circuit_Had.h(qra)\n",
    "\n",
    "circuit_Had.measure(qra,cr)\n",
    "display(circuit_Had.draw('mpl', scale=0.85, style=\"iqp\"))\n",
    "\n",
    "# Simulemos y calculemos el valor medio\n",
    "s, c, r = my_get_circuit_state(circuit_Had, shots=30000)\n",
    "counts_circuit_Had = c\n",
    "print(counts_circuit_Had)\n",
    "expected, sigma = count2avg(counts_circuit_Had, nd=7)\n",
    "print(f\"<Xancilla>={expected} sigma={sigma}\")"
   ]
  },
  {
   "cell_type": "markdown",
   "id": "f6cfbb3c-ca52-4dd2-bc61-21923875d502",
   "metadata": {},
   "source": [
    "<div style=\"background-color:#c8e6c9\"> \n",
    "<hr>    \n",
    "<b>Ejercicio</b>:\n",
    "<br>        \n",
    "\n",
    "Comprobar numéricamente que el valor esperado obtenido en el test de Hadamard es precisamente\n",
    "\n",
    "$$\\text{Re}(\\langle\\Psi|U|\\Psi\\rangle)$$\n",
    "\n",
    "Sugerencia:\n",
    "- se puede convertir el cicuito con la puerta U **no** controlada en operador:\n",
    "  \n",
    "  ```U_gate = circuit_U.to_gate(label='XXX')```\n",
    "- y se puede obtener la matriz asociada de dicho operador así:\n",
    "\n",
    "  ```Umat = Operator(U_gate).data```\n",
    "\n",
    "A partir de ahí es solo operar.\n",
    "<hr>\n",
    "</div>"
   ]
  },
  {
   "cell_type": "code",
   "execution_count": null,
   "id": "3aaf7268-89d0-4cbd-93d3-2d661fc12001",
   "metadata": {},
   "outputs": [],
   "source": [
    "import qiskit\n",
    "from qiskit_aer import AerSimulator\n",
    "import qiskit.tools.jupyter\n",
    "%qiskit_version_table"
   ]
  }
 ],
 "metadata": {
  "kernelspec": {
   "display_name": "Python 3 (ipykernel)",
   "language": "python",
   "name": "python3"
  },
  "language_info": {
   "codemirror_mode": {
    "name": "ipython",
    "version": 3
   },
   "file_extension": ".py",
   "mimetype": "text/x-python",
   "name": "python",
   "nbconvert_exporter": "python",
   "pygments_lexer": "ipython3",
   "version": "3.12.5"
  }
 },
 "nbformat": 4,
 "nbformat_minor": 5
}
