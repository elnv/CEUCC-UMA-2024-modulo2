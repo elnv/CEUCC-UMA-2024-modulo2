{
 "cells": [
  {
   "cell_type": "markdown",
   "id": "ae2c465a-5e5e-4e68-a4f1-b2249651ceb9",
   "metadata": {},
   "source": [
    "<a id='sec_Notebooks_Circ_1_qubit'></a>\n",
    "# Circuitos de un qúbit\n",
    "$\\newcommand{\\ket}[1]{|#1\\rangle}$"
   ]
  },
  {
   "cell_type": "code",
   "execution_count": null,
   "id": "cdfc07da-b773-4048-a6b8-1258f41edd85",
   "metadata": {},
   "outputs": [],
   "source": [
    "# No olvidar que en \"google colab\" hay que instalar qiskit\n",
    "\n",
    "########################\n",
    "# Instala versión 0.45.2\n",
    "########################\n",
    "# Importante, poner qiskit-aer en la misma linea de \"pip install\" para que coja la versión adecuada\n",
    "try:\n",
    "    import google.colab\n",
    "    print(\"In colab, let's install things...\")\n",
    "    #\n",
    "    !pip install qiskit[visualization]==0.45.2 qiskit-aer qiskit-ibm-runtime\n",
    "except ImportError:\n",
    "    print(\"NOT in colab\")"
   ]
  },
  {
   "cell_type": "code",
   "execution_count": null,
   "id": "0e7883d6-0e8f-4f24-af8f-228c4c79e46f",
   "metadata": {},
   "outputs": [],
   "source": [
    "from IPython.display import display, Latex, Markdown\n",
    "from matplotlib import pyplot as plt\n",
    "import scipy.linalg as la\n",
    "import numpy as np"
   ]
  },
  {
   "cell_type": "code",
   "execution_count": null,
   "id": "83412cb3-3dac-4059-b2c1-ab9eb7e07fd4",
   "metadata": {},
   "outputs": [],
   "source": [
    "from qiskit.circuit import QuantumRegister, ClassicalRegister,QuantumCircuit\n",
    "from qiskit_aer import AerSimulator\n",
    "from qiskit import transpile\n",
    "from qiskit.quantum_info import Statevector, schmidt_decomposition\n",
    "from qiskit.visualization import plot_histogram, plot_bloch_multivector, array_to_latex  "
   ]
  },
  {
   "cell_type": "code",
   "execution_count": null,
   "id": "8b677d21-8a76-4ff6-ba66-869a863e3ce5",
   "metadata": {},
   "outputs": [],
   "source": [
    "# Utilería acumulada\n",
    "\n",
    "# Definimos una función para visualizar el estado y la esfera a la vez\n",
    "# Permite escalar la(s) esferas(s) con 'inches' pulgadas, si este parámetro\n",
    "# no se pone, se dibuja al tamaño por defecto\n",
    "# Si se pone 0, no se dibuja la esfera\n",
    "def my_display_state_vector(psi, inches=None, prefix=r\"|\\psi\\rangle = \"):\n",
    "    d_latex = psi.draw('latex', prefix=prefix)\n",
    "    display(d_latex)\n",
    "    #\n",
    "    d_bloch = psi.draw('bloch')\n",
    "    if isinstance(inches, (int,float)):\n",
    "        if inches > 0:\n",
    "            d_bloch.set_size_inches(inches, inches, forward=True)\n",
    "            display(d_bloch)\n",
    "    else:\n",
    "        display(d_bloch)\n",
    "\n"
   ]
  },
  {
   "cell_type": "markdown",
   "id": "29c65411-32a5-458d-a739-ec99a324a132",
   "metadata": {},
   "source": [
    "<a id='nb03_sec1'></a>\n",
    "## Iniciar un circuito a partir del vector de estado"
   ]
  },
  {
   "cell_type": "markdown",
   "id": "46e2c181-4479-4e02-ba3d-1d5225ef9d98",
   "metadata": {},
   "source": [
    "En este ejercicio vamos a constuir un circuito de un qubit meramente inicializado con un valor arbitrario y realizaremos su simulación"
   ]
  },
  {
   "cell_type": "code",
   "execution_count": null,
   "id": "4a301e22-a593-4814-b35f-c5189dfb1af9",
   "metadata": {},
   "outputs": [],
   "source": [
    "# Iniciando un simple circuito sin puertas\n",
    "\n",
    "# Vamos a generar un vector de estado de un qubit a un estado aleatorio\n",
    "rm = np.random.rand(2,1) + np.random.rand(2,1)*1j\n",
    "rm = rm/la.norm(rm) # Normalizar \n",
    "initial_state = Statevector(rm)\n",
    "\n",
    "# Vamos a mostar este estado con 2 decimales\n",
    "# Recordar que los States vectors se admiten no normalizados, \n",
    "# otra cosa es que no sean válidos\n",
    "my_display_state_vector(Statevector([np.round(initial_state[0],2), np.round(initial_state[1],2)]), 2.5) "
   ]
  },
  {
   "cell_type": "code",
   "execution_count": null,
   "id": "a5419a26-5782-4bfc-b1ac-75522d211b5f",
   "metadata": {},
   "outputs": [],
   "source": [
    "# Creamos un circuito cuántico de 1 qubit\n",
    "# con una mera inicialización y lo mostramos\n",
    "qc = QuantumCircuit(1)\n",
    "qc.initialize(initial_state)\n",
    "\n",
    "# Mostramos el circuito en estilo matplotlib (mpl)\n",
    "fig = qc.draw('mpl', style=\"iqp\")\n",
    "display(fig)"
   ]
  },
  {
   "cell_type": "markdown",
   "id": "8bf5b3ea-23e7-4623-b70d-b4258d9d8e02",
   "metadata": {},
   "source": [
    "Obsérvese que el método `QuantumCircuit.draw('mpl')` genera una figura de Matplotlib, y la hemos almacenado en una variable, por lo que la podemos usar con los métodos típicos de Matplotlib como el `savefig()` para guardar la figura en un fichero"
   ]
  },
  {
   "cell_type": "code",
   "execution_count": null,
   "id": "fd3743ef-d43f-4f10-8473-f0bfca189a77",
   "metadata": {},
   "outputs": [],
   "source": [
    "# Salvemos la figura con el circuito en un fichero y comprobemos\n",
    "# que se ha generado\n",
    "\n",
    "filename = \"/tmp/Fig_circuit_initial_state.png\"\n",
    "fig.savefig(filename)\n",
    "!ls -l $filename # Chequear que el fichero se ha generado, escapando al shell"
   ]
  },
  {
   "cell_type": "markdown",
   "id": "2f8a4048-178f-4802-9bb0-5e6203f7e9ff",
   "metadata": {},
   "source": [
    "<div style=\"background-color:#c8e6c9\">\n",
    "<hr>\n",
    "<b>Ejercicio:</b>\n",
    "    \n",
    "Lee en la documentación en que otros formatos se puede _dibujar_ el ciruito (texto, Latex,...) y pruébalos\n",
    "<hr>\n",
    "</div>"
   ]
  },
  {
   "cell_type": "markdown",
   "id": "faad50b7-6258-4f61-a322-723c99d3dbb5",
   "metadata": {},
   "source": [
    "Para simular un circuito con el simulador _Aer_ (simulador incluido en el ecosistema Qiskit) seguiremos los siguientes pasos:\n",
    "- Preparar una **instancia del simulador** Aer (hay varios tipos de simulación disponibles)\n",
    "- **Transpilar** el circuito (es similar a la compilación, el circuito se optimiza y se transforma en un circuito equivalente capaz de ser ejecutado en el HW cuántico objetivo)\n",
    "- **Ejecutar** (puesto que el resultado es probabilístico, generalmente la simulación se repite un número de veces que denominamos _shots_)\n",
    "- Obtener el **resultado**:\n",
    "    - En estos primeros ejemplos usaremos un _God mode_ que permite ver el estado resultante, para ello se añade una _sonda_ en la cual se almacena el estado final de la simulación\n",
    "    - En la práctica solo tenemos el conteo de las mediciones posibles, sobre las que estimaremos las probabilidades"
   ]
  },
  {
   "cell_type": "code",
   "execution_count": null,
   "id": "b3a78c2e-e4f0-4f30-8b86-c42356ae2593",
   "metadata": {},
   "outputs": [],
   "source": [
    "# Para poder observar el estado final de la simulación (cosa que\n",
    "# en un computador cuántico real es imposible) añadimos una \"sonda\"\n",
    "# de simulación\n",
    "qcnew = qc.copy()   # Hacemos una copia del cicuito original para añadir la \"sonda\"\n",
    "qcnew.save_statevector()\n",
    "\n",
    "# Sugerencia: dibuja el nuevo circuito, ¿qué ha pasado?\n"
   ]
  },
  {
   "cell_type": "code",
   "execution_count": null,
   "id": "2179eb81-8270-4054-87df-baffe9b88e59",
   "metadata": {},
   "outputs": [],
   "source": [
    "# Generamos una instancia del simulador;\n",
    "# con \"method\" le especificamos el método de simulación\n",
    "simulador = AerSimulator(method = 'statevector')\n",
    "\n",
    "# También podemos llamar primero a la clase del simulador sin\n",
    "# pasarle argumentos y después añadir las opciones:\n",
    "# simulador = AerSimulator()\n",
    "# sim.set_options(method = 'statevector')\n",
    "\n",
    "# Transpilamos (para un ejemplo tan sencillo ni siquiera haría falta\n",
    "qct = transpile(qcnew, backend = simulador)\n",
    "\n",
    "# Ejecutamos la simulación, para ver el estado sería \n",
    "# suficiente con 1 shot, pero pongamos más\n",
    "job = simulador.run(qct, shots = 1)\n",
    "result = job.result()"
   ]
  },
  {
   "cell_type": "code",
   "execution_count": null,
   "id": "109adcd6-75ff-4b84-9801-476e8d7985c1",
   "metadata": {},
   "outputs": [],
   "source": [
    "# Como pusimos la sonda, vamos a tomar el estado final aunque\n",
    "# en la realidad esto no es posible\n",
    "final_state = result.get_statevector()\n",
    "\n",
    "# Veamos cómo es\n",
    "my_display_state_vector(final_state, 2)"
   ]
  },
  {
   "cell_type": "code",
   "execution_count": null,
   "id": "95e15021-43ad-4ffd-b121-a80e95edcceb",
   "metadata": {},
   "outputs": [],
   "source": [
    "# Si el simulador simula bien, debemos haber obtenido el\n",
    "# mismo estado que inicalmente\n",
    "assert(final_state == initial_state)"
   ]
  },
  {
   "cell_type": "code",
   "execution_count": null,
   "id": "b48611fb-afdd-492c-b73b-82eb967f925e",
   "metadata": {},
   "outputs": [],
   "source": [
    "# Del objeto resultado, también podemos ver la probabilidad\n",
    "# de medir un |0> o un |1>\n",
    "# (aunque esto lo haremos luego poniendo medidores!!)\n",
    "# Como no hemos puesto medidores es un resultado, ideal, a partir\n",
    "# del cuadrado de las amplitudes de |0> y |1>\n",
    "\n",
    "counts_ideal = result.get_counts(0)\n",
    "display(counts_ideal)"
   ]
  },
  {
   "cell_type": "code",
   "execution_count": null,
   "id": "ff4445e1-1e64-4f71-956c-22997ddca7b3",
   "metadata": {},
   "outputs": [],
   "source": [
    "# Comprobemos que el resultado del simulador coinciden\n",
    "# con el cuadrado de las amplitudes\n",
    "p0 = np.abs(initial_state[0])**2\n",
    "p1 = np.abs(initial_state[1])**2\n",
    "print(\" p0={0}\\n p1={1}\".format(p0,p1))"
   ]
  },
  {
   "cell_type": "markdown",
   "id": "36bf78fb-76f7-4c1f-b883-e636d760d7ed",
   "metadata": {},
   "source": [
    "<a id='nb03_sec2'></a>\n",
    "## Puertas de un qubit"
   ]
  },
  {
   "cell_type": "code",
   "execution_count": null,
   "id": "c5e0c3b6-0dea-424a-bfee-531c18cf6c1d",
   "metadata": {},
   "outputs": [],
   "source": [
    "# Definamos alguna utilería\n",
    "\n",
    "# Función para simular un cirucito dado:\n",
    "# devuelve esta terna (estado final, cuenta, resultado del job)\n",
    "def my_get_circuit_state(qcirc_in, shots=1):\n",
    "    # Instancia del simulador\n",
    "    sim = AerSimulator(method = \"statevector\")\n",
    "    \n",
    "    # Hacemos una copia ya que vamos a cambiar el objeto circuito\n",
    "    qcirc = qcirc_in.copy()\n",
    "    \n",
    "    # Ponemos el \"probe\" para el vector de estado al final\n",
    "    # del cirucito dado\n",
    "    # ojo! el circuito no debe de tener un \"save_statevector\" ya!\n",
    "    qcirc.save_statevector()\n",
    "    \n",
    "    # Hacemos una simulación y obtenemos los resultados\n",
    "    qobj = transpile(qcirc, sim)\n",
    "    result = sim.run(qobj, shots=shots).result()\n",
    "    state = result.get_statevector()\n",
    "    counts_ideal = result.get_counts()\n",
    "    \n",
    "    return state, counts_ideal, result\n"
   ]
  },
  {
   "cell_type": "markdown",
   "id": "4ca7f08a-0ae4-4f22-8455-c87a3e98e8a5",
   "metadata": {},
   "source": [
    "<a id='sec_Notebooks_Circ_1_qubit_1.2'></a>\n",
    "### Puerta X"
   ]
  },
  {
   "cell_type": "markdown",
   "id": "a7cc312b-4b8e-4b18-a3e5-8acfe21427a3",
   "metadata": {},
   "source": [
    "Veamos ahora un ejemplo de un circuito con la puerta $X$ para ver su acción"
   ]
  },
  {
   "cell_type": "code",
   "execution_count": null,
   "id": "99258045-e36d-44c0-8609-d9b1d117bf47",
   "metadata": {},
   "outputs": [],
   "source": [
    "# Creamos el circuito de 1 solo qubit\n",
    "circuit_X = QuantumCircuit(1)\n",
    "\n",
    "# Añadimos la puerta X al primer (y único) qúbit\n",
    "# Nótese que por defecto el estado inicial si no se indica es |0>\n",
    "circuit_X.x(0)\n",
    "\n",
    "# Podemos dibujarlo en modo texto\n",
    "#print(circuit_X.draw(output='text'))\n",
    "\n",
    "# Podemos dibujarlo como figura de matplolib\n",
    "fig = circuit_X.draw(output='mpl',  style=\"iqp\") # mpl es de Matplolib\n",
    "\n",
    "# Podemos guardar la figura en fichero\n",
    "#fig.savefig(\"/tmp/Fig_circuit_X.png\")\n",
    "# Invocar al sistema, comprobar que el fichero se ha creado\n",
    "#!ls -l \"/tmp/Fig_circuit_X.png\"\n",
    "\n",
    "# Si queremos mostramos el circuito\n",
    "display(fig)"
   ]
  },
  {
   "cell_type": "code",
   "execution_count": null,
   "id": "d5ceb73a-1c37-4ed2-a279-9c99e740a438",
   "metadata": {},
   "outputs": [],
   "source": [
    "# Usemos nuestra función de utilería que simula y nos da el estado final\n",
    "state, p_ideal, r = my_get_circuit_state(circuit_X)\n",
    "\n",
    "# Visualicemos el estado y las probabilidades\n",
    "my_display_state_vector(state,2.2, r\"\\Psi_{out X}=\")\n",
    "display(p_ideal)\n"
   ]
  },
  {
   "cell_type": "markdown",
   "id": "105852db-a5d2-45a0-8de4-efbd09b07624",
   "metadata": {},
   "source": [
    "<a id='sec_Notebooks_Circ_1_qubit_1.3'></a>\n",
    "### Puerta H"
   ]
  },
  {
   "cell_type": "markdown",
   "id": "2cda9e20-b2f5-47e7-b549-e370f6b8e14d",
   "metadata": {},
   "source": [
    "Veamos ahora un ejemplo de un circuito con la puerta $H$ para ver su acción"
   ]
  },
  {
   "cell_type": "code",
   "execution_count": null,
   "id": "5e6f34e4-7b75-4757-98c5-598ae5e44878",
   "metadata": {},
   "outputs": [],
   "source": [
    "# Creamos el circuito de 1 solo qubit\n",
    "circuit_H = QuantumCircuit(1)\n",
    "\n",
    "# Añadimos la puerta X al primer (y único) qúbit\n",
    "# Nótese que por defecto el estado inicial si no se indica es |0>\n",
    "circuit_H.h(0)\n",
    "\n",
    "# Podemos dibujarlo en modo texto\n",
    "#print(circuit_H.draw(output='text'))\n",
    "\n",
    "# Podemos dibujarlo como figura de matplolib\n",
    "fig = circuit_H.draw(output='mpl',  style=\"iqp\") # mpl es de Matplolib\n",
    "\n",
    "# Podemos guardar la figura en fichero\n",
    "#Fig.savefig(\"/tmp/Fig_circuit_H.png\")\n",
    "# Invocar al sistema, comprobar que el fichero se ha creado\n",
    "#!ls -l \"/tmp/Fig_circuit_H.png\"\n",
    "\n",
    "# Si queremos mostramos el circuito\n",
    "display(fig)"
   ]
  },
  {
   "cell_type": "code",
   "execution_count": null,
   "id": "5de061fb-b7ce-4f2e-833f-a9942c49fd42",
   "metadata": {},
   "outputs": [],
   "source": [
    "# Usemos nuestra función de utilería que simula y nos da el estado final\n",
    "state, p_ideal, r = my_get_circuit_state(circuit_H)\n",
    "\n",
    "# Visualicemos el estado y las probabilidades\n",
    "my_display_state_vector(state,2.2, r\"\\Psi_{out H}=\")\n",
    "display(p_ideal)"
   ]
  },
  {
   "cell_type": "markdown",
   "id": "bf20afeb-0e30-4589-8206-31e0a0c7eb20",
   "metadata": {},
   "source": [
    "Como podemos ver, ahora aproximadamente la mitad de las veces obtenemos $| 0 \\rangle$ y la otra mitad obtenemos $| 1 \\rangle$. Esto es debido a que \n",
    "$$\n",
    "H |0  \\rangle = \\frac{1}{\\sqrt{2}} \\left(| 0 \\rangle + | 1 \\rangle \\right)\n",
    "$$\n",
    "Recordemos que la probabilidad de medir cada estado es igual al módulo cuadrado de su amplitud (del coeficiente que acompaña al estado)"
   ]
  },
  {
   "cell_type": "markdown",
   "id": "40ce6863-9ef5-4784-90a8-b2fc5d6c2801",
   "metadata": {},
   "source": [
    "<a id='sec_Notebooks_Circ_1_qubit_1.3'></a>\n",
    "### Circuito de un qubit con varias puertas"
   ]
  },
  {
   "cell_type": "markdown",
   "id": "5139293d-8881-4f95-9323-76b7d6fd9130",
   "metadata": {},
   "source": [
    "Veamos ahora un ejemplo de un circuito con varias puertas\n",
    "Y vamos a poner varios \"probes\" para ver los valores intermedios del vector de estado"
   ]
  },
  {
   "cell_type": "code",
   "execution_count": null,
   "id": "6ad8cede-8f0d-438c-b1b3-ee6ef6812f7a",
   "metadata": {},
   "outputs": [],
   "source": [
    "# Creamos el circuito de 1 solo qubit\n",
    "circuit_M = QuantumCircuit(1)\n",
    "\n",
    "# Añadimos la puerta X al primer (y único) qúbit\n",
    "# Nótese que por defecto el estado inicial si no se indica es |0>\n",
    "circuit_M.y(0)\n",
    "circuit_M.save_statevector(label='after_Y')    # Probe para statevector intermedio\n",
    "circuit_M.h(0)\n",
    "circuit_M.save_statevector(label='after_H')    # Probe para statevector intermedio\n",
    "circuit_M.s(0)\n",
    "circuit_M.save_statevector(label='after_S')    # Probe para statevector intermedio\n",
    "\n",
    "# Podemos dibujarlo en modo texto\n",
    "#print(circuit_M.draw(output='text'))\n",
    "\n",
    "# Podemos dibujarlo como figura de matplolib\n",
    "fig = circuit_M.draw(output='mpl',  style=\"iqp\") # mpl es de Matplolib\n",
    "\n",
    "# Si queremos mostramos el circuito\n",
    "display(fig)"
   ]
  },
  {
   "cell_type": "code",
   "execution_count": null,
   "id": "ce40362e-9c39-41d4-8033-4398a1125deb",
   "metadata": {},
   "outputs": [],
   "source": [
    "# Usemos nuestra función de utilería que simula y nos da el estado final\n",
    "state, p_ideal, result = my_get_circuit_state(circuit_M)\n",
    "\n",
    "# Visualicemos el estado y las probabilidades finales\n",
    "my_display_state_vector(state,2.2, r\"\\Psi_{out}=\")\n",
    "display(p_ideal)"
   ]
  },
  {
   "cell_type": "code",
   "execution_count": null,
   "id": "57528d5c-413f-4604-8ea9-a39fcf524640",
   "metadata": {},
   "outputs": [],
   "source": [
    "# Veamos los estados intermedios\n",
    "# Esto es un 'dirty trick'\n",
    "result_state_0 = result.data(0)['after_Y']\n",
    "result_state_1 = result.data(0)['after_H']\n",
    "result_state_2 = result.data(0)['after_S']\n",
    "\n",
    "my_display_state_vector(result_state_0, 0, r\"\\Psi_{after Y}=\")\n",
    "my_display_state_vector(result_state_1, 0, r\"\\Psi_{after H}=\")\n",
    "my_display_state_vector(result_state_2, 0, r\"\\Psi_{after S}=\")"
   ]
  },
  {
   "cell_type": "code",
   "execution_count": null,
   "id": "7453634c-a1ac-451a-a250-13aacc139c12",
   "metadata": {},
   "outputs": [],
   "source": []
  },
  {
   "cell_type": "code",
   "execution_count": null,
   "id": "3aaf7268-89d0-4cbd-93d3-2d661fc12001",
   "metadata": {},
   "outputs": [],
   "source": [
    "import qiskit\n",
    "from qiskit_aer import AerSimulator\n",
    "import qiskit.tools.jupyter\n",
    "%qiskit_version_table"
   ]
  }
 ],
 "metadata": {
  "kernelspec": {
   "display_name": "Python 3 (ipykernel)",
   "language": "python",
   "name": "python3"
  },
  "language_info": {
   "codemirror_mode": {
    "name": "ipython",
    "version": 3
   },
   "file_extension": ".py",
   "mimetype": "text/x-python",
   "name": "python",
   "nbconvert_exporter": "python",
   "pygments_lexer": "ipython3",
   "version": "3.12.5"
  }
 },
 "nbformat": 4,
 "nbformat_minor": 5
}
