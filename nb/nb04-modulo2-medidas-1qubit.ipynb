{
 "cells": [
  {
   "cell_type": "markdown",
   "id": "ae2c465a-5e5e-4e68-a4f1-b2249651ceb9",
   "metadata": {},
   "source": [
    "<a id='sec_Notebooks_Circ_1_qubit'></a>\n",
    "# Mediciones en circuitos de un qubit\n",
    "$\\newcommand{\\ket}[1]{|#1\\rangle}$"
   ]
  },
  {
   "cell_type": "code",
   "execution_count": 1,
   "id": "cdfc07da-b773-4048-a6b8-1258f41edd85",
   "metadata": {},
   "outputs": [
    {
     "name": "stdout",
     "output_type": "stream",
     "text": [
      "NOT in colab\n"
     ]
    }
   ],
   "source": [
    "# No olvidar que en \"google colab\" hay que instalar qiskit\n",
    "\n",
    "########################\n",
    "# Instala versión 0.45.2\n",
    "########################\n",
    "# Importante, poner qiskit-aer en la misma linea de \"pip install\" para que coja la versión adecuada\n",
    "try:\n",
    "    import google.colab\n",
    "    print(\"In colab, let's install things...\")\n",
    "    #\n",
    "    !pip install qiskit[visualization]==0.45.2 qiskit-aer qiskit-ibm-runtime\n",
    "except ImportError:\n",
    "    print(\"NOT in colab\")"
   ]
  },
  {
   "cell_type": "code",
   "execution_count": 2,
   "id": "0e7883d6-0e8f-4f24-af8f-228c4c79e46f",
   "metadata": {},
   "outputs": [],
   "source": [
    "from IPython.display import display, Latex, Markdown\n",
    "from matplotlib import pyplot as plt\n",
    "import scipy.linalg as la\n",
    "import numpy as np"
   ]
  },
  {
   "cell_type": "code",
   "execution_count": 3,
   "id": "83412cb3-3dac-4059-b2c1-ab9eb7e07fd4",
   "metadata": {},
   "outputs": [],
   "source": [
    "from qiskit.circuit import QuantumRegister, ClassicalRegister,QuantumCircuit\n",
    "from qiskit_aer import AerSimulator\n",
    "from qiskit import transpile\n",
    "from qiskit.quantum_info import Statevector, schmidt_decomposition\n",
    "from qiskit.visualization import plot_histogram, plot_bloch_multivector, array_to_latex  "
   ]
  },
  {
   "cell_type": "code",
   "execution_count": 4,
   "id": "8b677d21-8a76-4ff6-ba66-869a863e3ce5",
   "metadata": {},
   "outputs": [],
   "source": [
    "# Utilería acumulada\n",
    "\n",
    "# Definimos una función para visualizar el estado y la esfera a la vez\n",
    "# Permite escalar la(s) esferas(s) con 'inches' pulgadas, si este parámetro\n",
    "# no se pone, se dibuja al tamaño por defecto\n",
    "# Si se pone 0, no se dibuja la esfera\n",
    "def my_display_state_vector(psi, inches=None, prefix=r\"|\\psi\\rangle = \"):\n",
    "    d_latex = psi.draw('latex', prefix=prefix)\n",
    "    display(d_latex)\n",
    "    #\n",
    "    d_bloch = psi.draw('bloch')\n",
    "    if isinstance(inches, (int,float)):\n",
    "        if inches > 0:\n",
    "            d_bloch.set_size_inches(inches, inches, forward=True)\n",
    "            display(d_bloch)\n",
    "    else:\n",
    "        display(d_bloch)\n",
    "\n",
    "# Función para simular un cirucito dado:\n",
    "# devuelve esta terna (estado final, cuenta, resultado del job)\n",
    "def my_get_circuit_state(qcirc_in, shots=1, final_probe=True):\n",
    "    # Instancia del simulador\n",
    "    sim = AerSimulator(method = \"statevector\")\n",
    "    \n",
    "    # Hacemos una copia ya que vamos a cambiar el objeto circuito\n",
    "    qcirc = qcirc_in.copy()\n",
    "    \n",
    "    # Ponemos el \"probe\" para el vector de estado al final\n",
    "    # del cirucito dado\n",
    "    # ojo! el circuito no debe de tener un \"save_statevector\" ya!\n",
    "    if final_probe:\n",
    "        qcirc.save_statevector()\n",
    "    \n",
    "    # Hacemos una simulación y obtenemos los resultados\n",
    "    qobj = transpile(qcirc, sim)\n",
    "    result = sim.run(qobj, shots=shots).result()\n",
    "    state = result.get_statevector()\n",
    "    counts_ideal = result.get_counts()\n",
    "    \n",
    "    return state, counts_ideal, result\n",
    "\n",
    "# Función para simular un cirucito dado devuelve el resultado\n",
    "# de la simulación\n",
    "def my_circuit_simulation(qcirc, shots=1):\n",
    "    # Instancia del simulador\n",
    "    sim = AerSimulator(method = \"statevector\")\n",
    "     \n",
    "    # Hacemos una simulación y obtenemos los resultados\n",
    "\n",
    "\n",
    "    qobj = transpile(qcirc, backend=sim)\n",
    "    result = sim.run(qobj, shots=shots).result()\n",
    "    \n",
    "    return result"
   ]
  },
  {
   "cell_type": "markdown",
   "id": "1baaa913-0a6a-4a34-8d37-bca835f9d34b",
   "metadata": {},
   "source": [
    "<a id='sec_Notebooks_Circ_1_qubit_1'></a>\n",
    "## Creación y medición de circuitos de 1 qúbit con Qiskit"
   ]
  },
  {
   "cell_type": "markdown",
   "id": "961152c7-176f-408f-833c-e7700d1d5c14",
   "metadata": {},
   "source": [
    "Vamos a introducir los objetos Qiskit **Registros**, que pueden ser cuánticos o clásicos.\n",
    "\n",
    "Básicamente un registro es una _array_ de qubits o bits, respectivamente, y nos sirven para agrupar lógicamente grupos de bits ya sean cuánticos (qubits) o clásicos. "
   ]
  },
  {
   "cell_type": "code",
   "execution_count": 5,
   "id": "92747f43-b4e8-405c-96c7-3ab23aa17788",
   "metadata": {},
   "outputs": [],
   "source": [
    "# Definimos un registro cuántico con un qubit, etiquetado con 'q'\n",
    "quantum_reg = QuantumRegister(1, 'q') \n",
    "\n",
    "# Definimos un registro clásico con un bit, etiquetado con 'c'\n",
    "classic_reg = ClassicalRegister(1, 'c')"
   ]
  },
  {
   "cell_type": "markdown",
   "id": "99f94787-21b1-4c34-b907-2c46c79b4d84",
   "metadata": {},
   "source": [
    "<a id='sec_Notebooks_Circ_1_qubit_1.1'></a>\n",
    "### Circuito con solo medidor"
   ]
  },
  {
   "cell_type": "markdown",
   "id": "9769cb7a-09b3-43bc-907e-d1da0c4aef4e",
   "metadata": {},
   "source": [
    "Creamos un primer circuito. En este solo vamos a poner un medidor. De esta forma vamos a verificar que por defecto Qiskit (y la mayoría de libreas de quantum) inicializan los estados en $| 0 \\rangle$"
   ]
  },
  {
   "cell_type": "code",
   "execution_count": 6,
   "id": "3031ae5a-9205-4966-9fae-79f464c7b0c2",
   "metadata": {},
   "outputs": [
    {
     "data": {
      "image/png": "[encoded data removed]",
      "text/plain": [
       "<Figure size 185.453x200.667 with 1 Axes>"
      ]
     },
     "execution_count": 6,
     "metadata": {},
     "output_type": "execute_result"
    }
   ],
   "source": [
    "# Creamos el circuito a partir de los registros\n",
    "circuit = QuantumCircuit(quantum_reg, classic_reg)\n",
    "\n",
    "# Añadimos el medidor\n",
    "#   - El primer argumento son los qubits a medir\n",
    "#   - El segundo argumento son los bits donde volcar el resultado de la medición\n",
    "circuit.measure(quantum_reg, classic_reg)\n",
    "\n",
    "# Dibujamos el circuito\n",
    "circuit.draw(output='mpl', style=\"iqp\") # tipo de figura matplotlib (mpl)"
   ]
  },
  {
   "cell_type": "markdown",
   "id": "9c8a883d-2889-4c19-a5cd-25ab47a43c39",
   "metadata": {},
   "source": [
    "Vamos a simular"
   ]
  },
  {
   "cell_type": "code",
   "execution_count": 7,
   "id": "7d69c252-973e-44fc-917f-fef3c517a16f",
   "metadata": {},
   "outputs": [],
   "source": [
    "# Generamos una instancia del simulador;\n",
    "# con \"method\" le especificamos el método de simulación\n",
    "simulador = AerSimulator(method = 'statevector')\n",
    "\n",
    "# Transpilamos\n",
    "circuit_t = transpile(circuit, backend = simulador)\n",
    "\n",
    "# Ejecutamos la simulación, con un buen número de repeticiones\n",
    "# (shots = 1000), ya que tenemos un medidor\n",
    "job = simulador.run(circuit_t, shots = 1000)\n",
    "result = job.result()"
   ]
  },
  {
   "cell_type": "markdown",
   "id": "f1af29cb-c823-4446-9016-7c272e526dec",
   "metadata": {},
   "source": [
    "Imprimamos el objeto resultado de la simulación"
   ]
  },
  {
   "cell_type": "code",
   "execution_count": 8,
   "id": "2c0001a4-6ab1-45bc-8d21-34d7e1494dfe",
   "metadata": {},
   "outputs": [
    {
     "data": {
      "text/plain": [
       "Result(backend_name='aer_simulator_statevector', backend_version='0.14.2', qobj_id='', job_id='6544734e-5a19-4ebb-b361-b0e87df5106e', success=True, results=[ExperimentResult(shots=1000, success=True, meas_level=2, data=ExperimentResultData(counts={'0x0': 1000}), header=QobjExperimentHeader(creg_sizes=[['c', 1]], global_phase=0.0, memory_slots=1, n_qubits=1, name='circuit-158', qreg_sizes=[['q', 1]], metadata={}), status=DONE, seed_simulator=3032540666, metadata={'time_taken': 0.000827818, 'num_bind_params': 1, 'parallel_state_update': 20, 'parallel_shots': 1, 'required_memory_mb': 1, 'input_qubit_map': [[0, 0]], 'method': 'statevector', 'device': 'CPU', 'num_qubits': 1, 'sample_measure_time': 0.000542567, 'active_input_qubits': [0], 'num_clbits': 1, 'remapped_qubits': False, 'runtime_parameter_bind': False, 'max_memory_mb': 64000, 'noise': 'ideal', 'measure_sampling': True, 'batched_shots_optimization': False, 'fusion': {'applied': False, 'max_fused_qubits': 5, 'threshold': 14, 'enabled': True}}, time_taken=0.000827818)], date=2024-10-07T11:47:55.416977, status=COMPLETED, header=None, metadata={'time_taken_parameter_binding': 7.746e-06, 'time_taken_execute': 0.000844076, 'omp_enabled': True, 'max_gpu_memory_mb': 0, 'max_memory_mb': 64000, 'parallel_experiments': 1}, time_taken=0.0011606216430664062)"
      ]
     },
     "metadata": {},
     "output_type": "display_data"
    }
   ],
   "source": [
    "display(result)"
   ]
  },
  {
   "cell_type": "markdown",
   "id": "d55218e4-3279-4851-a8fc-bf208763236b",
   "metadata": {},
   "source": [
    "Vemos que la salida tiene mucha información. \n",
    "Lo más importante es saber cuantas veces se ha medido cada posible medida de nuestro medidor."
   ]
  },
  {
   "cell_type": "code",
   "execution_count": 9,
   "id": "93530252-e667-4aa5-afee-da50e3dcece6",
   "metadata": {},
   "outputs": [
    {
     "data": {
      "text/plain": [
       "{'0': 1000}"
      ]
     },
     "execution_count": 9,
     "metadata": {},
     "output_type": "execute_result"
    }
   ],
   "source": [
    "counts = result.get_counts()\n",
    "counts"
   ]
  },
  {
   "cell_type": "markdown",
   "id": "1d3b615f-d036-4ca3-adf4-b311bc163024",
   "metadata": {},
   "source": [
    "Vemos que, como era de esperar, las 1000 ejecuciones del circuito nos han dado $| 0 \\rangle$"
   ]
  },
  {
   "cell_type": "markdown",
   "id": "af0a81e4-7488-4608-ad73-9c17743f5c2c",
   "metadata": {},
   "source": [
    "Podemos hacer un histograma con las cuentas. \n",
    "\n",
    "Nuevamente, el histograma es una figura de Matplotlib, así que podríamos usar `savefig()`"
   ]
  },
  {
   "cell_type": "code",
   "execution_count": 10,
   "id": "1c26e1d8-d1f6-46c1-94f2-29ce56cfd36d",
   "metadata": {},
   "outputs": [
    {
     "data": {
      "image/png": "[encoded data removed]",
      "text/plain": [
       "<Figure size 250x250 with 1 Axes>"
      ]
     },
     "metadata": {},
     "output_type": "display_data"
    }
   ],
   "source": [
    "fig = plot_histogram(counts, figsize=(2.5,2.5))\n",
    "#Fig.savefig('/tmp/Fig_circuit_1_hist')\n",
    "display(fig)"
   ]
  },
  {
   "cell_type": "code",
   "execution_count": null,
   "id": "44a72ecf-f170-47bb-8cac-374a15e842e0",
   "metadata": {},
   "outputs": [],
   "source": []
  },
  {
   "cell_type": "markdown",
   "id": "aa3a119d-f7bb-4e17-98ed-6ad9664a3056",
   "metadata": {},
   "source": [
    "<a id='sec_Notebooks_Circ_1_qubit_1.2'></a>\n",
    "### Circuito de un qubit con puertas y medidor"
   ]
  },
  {
   "cell_type": "code",
   "execution_count": 11,
   "id": "a397d4e6-9d19-4ff8-a876-2db726b8fed5",
   "metadata": {
    "scrolled": true
   },
   "outputs": [
    {
     "data": {
      "image/png": "[encoded data removed]",
      "text/plain": [
       "<Figure size 436.286x200.667 with 1 Axes>"
      ]
     },
     "metadata": {},
     "output_type": "display_data"
    }
   ],
   "source": [
    "# Creamos el circuito pasandole los registros. \n",
    "circuit = QuantumCircuit(quantum_reg, classic_reg)\n",
    "\n",
    "# Añadimos una puerta X seguida de una H al primer (y único) qúbit\n",
    "circuit.x(0)\n",
    "circuit.h(0)\n",
    "circuit.y(0)\n",
    "\n",
    "# Añadimos el medidor\n",
    "circuit.measure(quantum_reg, classic_reg)\n",
    "\n",
    "# Dibujemos el circuito\n",
    "display(circuit.draw(output='mpl', style=\"iqp\")) \n"
   ]
  },
  {
   "cell_type": "code",
   "execution_count": 12,
   "id": "d63d9abb-d28e-4c3d-b9e9-cd07c2b22aef",
   "metadata": {
    "scrolled": true
   },
   "outputs": [
    {
     "data": {
      "image/png": "[encoded data removed]",
      "text/plain": [
       "<Figure size 250x250 with 1 Axes>"
      ]
     },
     "metadata": {},
     "output_type": "display_data"
    }
   ],
   "source": [
    "# Usemos nuestra función de utilería que simula y nos da el resultado\n",
    "result = my_circuit_simulation(circuit, 1000)\n",
    "\n",
    "# Visualicemos el estado y las probabilidades\n",
    "counts = result.get_counts()\n",
    "display(plot_histogram(counts, figsize=(2.5,2.5)))"
   ]
  },
  {
   "cell_type": "code",
   "execution_count": 13,
   "id": "26e4c52f-5387-408a-beab-29faa209f17d",
   "metadata": {},
   "outputs": [
    {
     "name": "stdout",
     "output_type": "stream",
     "text": [
      "probability distribution = {'0': 0.474, '1': 0.526}\n"
     ]
    }
   ],
   "source": [
    "# Vamos a definir una función para calcular la distribución de probabilidad\n",
    "\n",
    "# Toma un histograma en formato diccionario tal como lo devuelve get_counts()\n",
    "# y lo transforma en otro diccionario con las frecuencias relativas (distribución\n",
    "# de probabilidad)\n",
    "def my_get_prob_dist(counts, nd=3):\n",
    "    N = 0\n",
    "    for i in counts.items():\n",
    "        N += i[1]\n",
    "    prob = {}\n",
    "    for i in counts.items():\n",
    "        prob[i[0]] = np.round(i[1]/N, nd)\n",
    "    return prob\n",
    "    \n",
    "\n",
    "prob_dist = my_get_prob_dist(counts)\n",
    "print(\"probability distribution =\", prob_dist)"
   ]
  },
  {
   "cell_type": "markdown",
   "id": "fb3c3a70-c553-45f4-9719-6af6f504eb5c",
   "metadata": {},
   "source": [
    "<div style=\"background-color:#c8e6c9\">\n",
    "<hr>\n",
    "<b>Ejercicio:</b>\n",
    "Con lápiz y papel, en este circuito, ¿cuál es el estado final del qubit antes del medidor?\n",
    "    \n",
    "Observa las frecuencias de aparición de las medidas ¿son aproximadamente las que deben salir?\n",
    "<hr>\n",
    "</div>"
   ]
  },
  {
   "cell_type": "markdown",
   "id": "f83f7b86-d94d-47f0-a053-b74a04012694",
   "metadata": {},
   "source": [
    "<div style=\"background-color:#c8e6c9\">\n",
    "<hr>\n",
    "<b>Ejercicio:</b>\n",
    "Añade un medidor al circuito del primer ejercicio del cuadernillo anterior, que no era más que una mera inicialización del qubit.\n",
    "\n",
    "Comprueba que el histograma está acorde al cuadrado de las amplitudes 0 y 1 en el vector de ini\n",
    "<hr>\n",
    "</div>"
   ]
  },
  {
   "cell_type": "code",
   "execution_count": null,
   "id": "49ef23e7-7fe5-4cc1-8228-7e34371b5c02",
   "metadata": {},
   "outputs": [],
   "source": []
  },
  {
   "cell_type": "markdown",
   "id": "af74aa19-3737-4d20-a2c3-1c6320e5d830",
   "metadata": {},
   "source": [
    "<a id='sec_Notebooks_Circ_1_qubit_3'></a>\n",
    "## La moneda cuántica   "
   ]
  },
  {
   "cell_type": "markdown",
   "id": "a7b72e2b-847c-4ceb-a4b9-0de243c62b1b",
   "metadata": {},
   "source": [
    "Vamos a ver aquí a modo de ejemplo un experimento simple: **la moneda cuántica**.\n",
    "\n",
    "El resultado de tirar una moneda al aire es una variable aleatoria con dos resultados equiprobables:  cara y cruz.  Es irrelevante si analizamos el resultado cada tirada o cada dos, o tres tiradas. Las frecuencias relativas de caras y cruces, siempre serán próximas a $1/2$. Es decir, podemos tirar la moneda, recogerla sin mirarla, volver a tirar, y las probabilidades no cambian.\n",
    "\n",
    "Podemos imaginar un experimento similar con un qúbit, donde cara $\\to 0$ y cruz $\\to 1$ son los resultados posibles de la medida en la base $Z$. Como al tirar la moneda, mientras esta está en el aire podemos pensar que está en ``una superposición equiprobable del cara y cruz'', el hecho de **tirar la moneda** en computación cuántica será aplicar el operador $H$. \n",
    "\n",
    "Haciendo esta consideración, podemos ver que no es lo mismo tirar la moneda 1 vez y mirar \n",
    "\n",
    "$$\n",
    "\\ket{0}~ \\stackrel{\\rm tirar}{\\longrightarrow} ~ H \\ket{0}= \\ket{+} ~ \\stackrel{\\rm medir}{\\longrightarrow} ~p(0) = p(1) = 0.5\n",
    "$$\n",
    "\n",
    "que tirarla dos veces y mirar\n",
    "\n",
    "$$\n",
    "\\ket{0}~ \\stackrel{\\rm tirar}{\\longrightarrow} ~ H \\ket{0}~ \\stackrel{\\rm tirar}{\\longrightarrow} H^2\\ket{0} = \\ket{0} ~ \\stackrel{\\rm medir}{\\longrightarrow} ~p(0) = 1 ~,~p(1) = 0\n",
    "$$\n",
    "\n",
    "El objetivo de este experimento es simplemente ver que ciertas puertas son sus propias inversas y que cuando aplicamos las aplicamos un número par de veces seguidas, es como si no aplicáramos nada. "
   ]
  },
  {
   "cell_type": "markdown",
   "id": "af5bbdee-27c6-4deb-8c4c-f3090e34d9ff",
   "metadata": {},
   "source": [
    "Hagamos dos circuitos para hacer dos pruebas. Veamos que pasa si medimos después de la primero $H$ y si no:"
   ]
  },
  {
   "cell_type": "code",
   "execution_count": 27,
   "id": "c4175664-4cb9-45d2-8d8d-b877cfa3de88",
   "metadata": {},
   "outputs": [
    {
     "data": {
      "text/plain": [
       "<qiskit.circuit.instructionset.InstructionSet at 0x7fee7869e380>"
      ]
     },
     "execution_count": 27,
     "metadata": {},
     "output_type": "execute_result"
    }
   ],
   "source": [
    "classic_reg_2_bits = ClassicalRegister(2)\n",
    "\n",
    "circuit_coin_1 = QuantumCircuit(quantum_reg, classic_reg_2_bits)\n",
    "circuit_coin_1.h(0)\n",
    "circuit_coin_1.measure(quantum_reg, classic_reg_2_bits[0]) # Añadimos una medida intermedia.\n",
    "circuit_coin_1.h(0)\n",
    "circuit_coin_1.measure(quantum_reg, classic_reg_2_bits[1])\n",
    "\n",
    "circuit_coin_2 = QuantumCircuit(quantum_reg, classic_reg)\n",
    "circuit_coin_2.h(0)\n",
    "circuit_coin_2.h(0)\n",
    "circuit_coin_2.measure(quantum_reg, classic_reg)\n",
    "\n",
    "#display(circuit_coin_1.draw(), circuit_coin_2.draw())"
   ]
  },
  {
   "cell_type": "code",
   "execution_count": 28,
   "id": "f3f37bba-f89c-49a7-b298-ec02b8c032f4",
   "metadata": {},
   "outputs": [
    {
     "data": {
      "image/png": "[encoded data removed]",
      "text/plain": [
       "<Figure size 452.113x200.667 with 1 Axes>"
      ]
     },
     "metadata": {},
     "output_type": "display_data"
    }
   ],
   "source": [
    "fig_coin_1 = circuit_coin_1.draw(output='mpl', style=\"iqp\") # mpl es de Matplolib\n",
    "display(fig_coin_1)"
   ]
  },
  {
   "cell_type": "code",
   "execution_count": 29,
   "id": "ad35e284-4afb-4e5e-85e9-49d4fb1a2251",
   "metadata": {},
   "outputs": [
    {
     "data": {
      "image/png": "[encoded data removed]",
      "text/plain": [
       "<Figure size 352.675x200.667 with 1 Axes>"
      ]
     },
     "metadata": {},
     "output_type": "display_data"
    }
   ],
   "source": [
    "fig_coin_2 = circuit_coin_2.draw(output='mpl', style=\"iqp\") # mpl es de Matplolib\n",
    "display(fig_coin_2)"
   ]
  },
  {
   "cell_type": "code",
   "execution_count": 17,
   "id": "7e8b761e-c318-497d-8ed0-d51c29e38b63",
   "metadata": {},
   "outputs": [
    {
     "name": "stdout",
     "output_type": "stream",
     "text": [
      "Resultado (circuito 1):  {'11': 265, '00': 259, '10': 232, '01': 244}\n",
      "Resultado (circuito 2):  {'0': 1000}\n"
     ]
    }
   ],
   "source": [
    "# transpilamos\n",
    "\n",
    "result_coin_1 = my_circuit_simulation(circuit_coin_1, 1000)\n",
    "result_coin_2 = my_circuit_simulation(circuit_coin_2, 1000)\n",
    "\n",
    "# Conteo de medidas\n",
    "counts_coin_1 = result_coin_1.get_counts()\n",
    "print(\"Resultado (circuito 1): \", counts_coin_1)\n",
    "counts_coin_2 = result_coin_2.get_counts()\n",
    "print(\"Resultado (circuito 2): \", counts_coin_2)"
   ]
  },
  {
   "cell_type": "code",
   "execution_count": 18,
   "id": "453fad13-d6c9-4fed-b644-21c352e43337",
   "metadata": {},
   "outputs": [
    {
     "data": {
      "image/png": "[encoded data removed]",
      "text/plain": [
       "<Figure size 500x300 with 1 Axes>"
      ]
     },
     "metadata": {},
     "output_type": "display_data"
    }
   ],
   "source": [
    "display(plot_histogram(counts_coin_1, figsize=(5,3)))"
   ]
  },
  {
   "cell_type": "markdown",
   "id": "94e308d4-3b87-41f8-86f8-8f464015dc23",
   "metadata": {},
   "source": [
    "Lo resultados $00$ y$11$ son aquellos en los que hemos medido los mismo en los dos medidores, es decir, en los dos tiradas ha salido cara o cruz. \n",
    "En los otros casos, no hemos medido lo mismo, es decir, en una tirada ha salido cara y en la otra cruz."
   ]
  },
  {
   "cell_type": "code",
   "execution_count": 19,
   "id": "2a35e71d-4558-4c83-9ff5-1475e64dc969",
   "metadata": {},
   "outputs": [
    {
     "data": {
      "image/png": "[encoded data removed]",
      "text/plain": [
       "<Figure size 200x200 with 1 Axes>"
      ]
     },
     "metadata": {},
     "output_type": "display_data"
    }
   ],
   "source": [
    "display(plot_histogram(counts_coin_2, figsize=(2,2)))"
   ]
  },
  {
   "cell_type": "markdown",
   "id": "4b138397-2c8d-4b60-83bf-6d3b7604154e",
   "metadata": {},
   "source": [
    "Vemos que **medir altera nuestro resultado**"
   ]
  },
  {
   "cell_type": "markdown",
   "id": "2399645f-fa80-44c1-9207-bc0189c2361c",
   "metadata": {},
   "source": [
    "<a id='sec_Notebooks_Circ_1_qubit_4'></a>\n",
    "## Valores esperados  "
   ]
  },
  {
   "cell_type": "markdown",
   "id": "2d208db4-0d2b-45a2-8503-81dd5419aba3",
   "metadata": {},
   "source": [
    "<a id='sec_Notebooks_Circ_1_qubit_4.1'></a>\n",
    "### Valor esperado de un observable arbitrario (operador hermítico)."
   ]
  },
  {
   "cell_type": "markdown",
   "id": "97efb596-8415-4a21-8606-140edc16bee8",
   "metadata": {},
   "source": [
    "Vamos a ver como se mide el valor esperado de un observable arbitrario $A$ en un estado arbitrario $\\ket{\\Psi}$. Estos valores esperados se denotan de la siguiente forma: $\\langle Z \\rangle_\\Psi$. \n",
    "\n",
    "Cualquier observable sobre un cúbit cumple $A = A^\\dagger$ (es hermítico) con lo que puede expresarse en la base\n",
    "\t\\begin{equation} \\label{ec_medidas1_expansion_A_en_Paulis}\n",
    "\tA = a I + n_x X + n_y Y  + n_z Z \\, .\n",
    "\t\\end{equation}\n",
    "Los coeficientes se obtienen haciendo uso de las relaciones $\\frac{1}{2}$ tr$ (\\sigma_i \\sigma_j) = \\delta_{ij}$ y de tr$(\\sigma_i)=0$, de las cuales se obtiene\n",
    "\t$$\\begin{align}\n",
    "\t&\\boxed{a  = \\frac{1}{2} \\text{ tr}(A)},        &         &\\boxed{n_i = \\frac{1}{2} \\text{ tr}  (A \\sigma_i)},\n",
    "\t\\end{align} \n",
    "    $$\n",
    "Entonces, podremos obtener el valor esperado de $A$  si somos capaces de medir los valores esperados de $X,$ $Y$ y $Z$.\n",
    "\t\\begin{equation}\n",
    "\t\\boxed{\\langle A\\rangle_\\Psi = a + n_x \\langle X\\rangle_\\Psi + n_y \\langle Y\\rangle_\\Psi + n_z \\langle Z\\rangle_\\Psi}\n",
    "\t\\end{equation}"
   ]
  },
  {
   "cell_type": "markdown",
   "id": "e652c9af-5ec8-403e-9dc3-b64bb355b794",
   "metadata": {},
   "source": [
    "<a id='sec_Notebooks_Circ_1_qubit_4.1.1'></a>\n",
    "#### Inicializando estado $| \\Psi \\rangle $"
   ]
  },
  {
   "cell_type": "code",
   "execution_count": 20,
   "id": "cd10f185-f0b1-4ad0-bc11-abc85a63a9b1",
   "metadata": {},
   "outputs": [
    {
     "data": {
      "text/latex": [
       "$$0.9689124217 |0\\rangle+(0.2363540298 + 0.0731128692 i) |1\\rangle$$"
      ],
      "text/plain": [
       "<IPython.core.display.Latex object>"
      ]
     },
     "metadata": {},
     "output_type": "display_data"
    },
    {
     "data": {
      "text/html": [
       "<pre style=\"word-wrap: normal;white-space: pre;background: #fff0;line-height: 1.1;font-family: &quot;Courier New&quot;,Courier,monospace\">     ┌───────────────────────────────────────┐┌─┐\n",
       "  q: ┤ Initialize(0.96891,0.23635+0.073113j) ├┤M├\n",
       "     └───────────────────────────────────────┘└╥┘\n",
       "c: 1/══════════════════════════════════════════╩═\n",
       "                                               0 </pre>"
      ],
      "text/plain": [
       "     ┌───────────────────────────────────────┐┌─┐\n",
       "  q: ┤ Initialize(0.96891,0.23635+0.073113j) ├┤M├\n",
       "     └───────────────────────────────────────┘└╥┘\n",
       "c: 1/══════════════════════════════════════════╩═\n",
       "                                               0 "
      ]
     },
     "metadata": {},
     "output_type": "display_data"
    }
   ],
   "source": [
    "# Vamos a definir un circuito con un valor inicial arbitario\n",
    "# y vamos a simularlo calculando su distribución de probabilidad\n",
    "\n",
    "# Inicializamos un estado arbitrario en la esfera de Bloch\n",
    "theta = 0.5  #rad\n",
    "phi   = 0.3  #rad\n",
    "psi_state = [np.cos(theta/2),(np.exp(1j*phi))*np.sin(theta/2)]\n",
    "\n",
    "# Veamos el vector de estado\n",
    "Psi = Statevector(psi_state)\n",
    "display(Psi.draw('latex'))\n",
    "\n",
    "qc = QuantumCircuit(quantum_reg, classic_reg)\n",
    "qc.initialize(Psi)\n",
    "qc.measure(quantum_reg, classic_reg)\n",
    "display(qc.draw('text',style=\"iqp\"))\n",
    "r = my_circuit_simulation(qc, 1000)\n",
    "counts_state = r.get_counts()\n",
    "prob_distr_state = my_get_prob_dist(counts_state)\n"
   ]
  },
  {
   "cell_type": "code",
   "execution_count": 21,
   "id": "a5a090ec-b790-49eb-b8de-c31193636f79",
   "metadata": {},
   "outputs": [
    {
     "name": "stdout",
     "output_type": "stream",
     "text": [
      "p_0= 0.939 , p_1= 0.061\n",
      "probability distribution = {'1': 0.048, '0': 0.952}\n"
     ]
    }
   ],
   "source": [
    "print('p_0=', np.round(np.abs(psi_state[0])**2,3),', p_1=', np.round(np.abs(psi_state[1])**2,3))\n",
    "print(\"probability distribution =\", prob_distr_state)"
   ]
  },
  {
   "cell_type": "markdown",
   "id": "ab8b10f1-c463-43ed-a9f4-1e3107ad793b",
   "metadata": {},
   "source": [
    "<a id='sec_Notebooks_Circ_1_qubit_4.1.2'></a>\n",
    "#### Midiendo $\\langle Z \\rangle$"
   ]
  },
  {
   "cell_type": "code",
   "execution_count": 22,
   "id": "d9b8e8a9-01aa-4685-967f-ab36934b5080",
   "metadata": {},
   "outputs": [
    {
     "data": {
      "text/html": [
       "<pre style=\"word-wrap: normal;white-space: pre;background: #fff0;line-height: 1.1;font-family: &quot;Courier New&quot;,Courier,monospace\">     ┌───────────────────────────────────────┐┌─┐\n",
       "  q: ┤ Initialize(0.96891,0.23635+0.073113j) ├┤M├\n",
       "     └───────────────────────────────────────┘└╥┘\n",
       "c: 1/══════════════════════════════════════════╩═\n",
       "                                               0 </pre>"
      ],
      "text/plain": [
       "     ┌───────────────────────────────────────┐┌─┐\n",
       "  q: ┤ Initialize(0.96891,0.23635+0.073113j) ├┤M├\n",
       "     └───────────────────────────────────────┘└╥┘\n",
       "c: 1/══════════════════════════════════════════╩═\n",
       "                                               0 "
      ]
     },
     "metadata": {},
     "output_type": "display_data"
    },
    {
     "name": "stdout",
     "output_type": "stream",
     "text": [
      "Resultado:  {'1': 50, '0': 950}\n",
      "probability distribution = {'1': 0.05, '0': 0.95}\n",
      "<Z> = 0.9\n"
     ]
    }
   ],
   "source": [
    "# Circuito\n",
    "circuit_Z_mean = QuantumCircuit(quantum_reg, classic_reg)\n",
    "circuit_Z_mean.initialize(Psi,0)\n",
    "circuit_Z_mean.measure(quantum_reg, classic_reg)\n",
    "\n",
    "display(circuit_Z_mean.draw())\n",
    "\n",
    "# Ejecutamos\n",
    "result_Z_mean = my_circuit_simulation(circuit_Z_mean, 1000)\n",
    "counts_Z_mean = result_Z_mean.get_counts()\n",
    "print(\"Resultado: \", counts_Z_mean)\n",
    "\n",
    "# Distribución de probabilidad\n",
    "prob_distr_Z_mean = my_get_prob_dist(counts_Z_mean)\n",
    "print(\"probability distribution =\", prob_distr_Z_mean)\n",
    "\n",
    "# Calculamos <Z>\n",
    "mean_Z = 0\n",
    "\n",
    "for bits, probs  in prob_distr_Z_mean.items():\n",
    "    mean_Z += (-1)**(int(bits)) * probs  \n",
    "\n",
    "print('<Z> =',np.round(mean_Z,5))"
   ]
  },
  {
   "cell_type": "markdown",
   "id": "6eea4966-d8bc-4914-9b17-c00502b4ef70",
   "metadata": {},
   "source": [
    "<a id='sec_Notebooks_Circ_1_qubit_4.1.3'></a>\n",
    "#### Midiendo $\\langle X \\rangle$"
   ]
  },
  {
   "cell_type": "code",
   "execution_count": 23,
   "id": "546617e4-b185-4149-81ee-e3752f5d5c39",
   "metadata": {},
   "outputs": [
    {
     "data": {
      "text/html": [
       "<pre style=\"word-wrap: normal;white-space: pre;background: #fff0;line-height: 1.1;font-family: &quot;Courier New&quot;,Courier,monospace\">     ┌───────────────────────────────────────┐┌───┐┌─┐\n",
       "  q: ┤ Initialize(0.96891,0.23635+0.073113j) ├┤ H ├┤M├\n",
       "     └───────────────────────────────────────┘└───┘└╥┘\n",
       "c: 1/═══════════════════════════════════════════════╩═\n",
       "                                                    0 </pre>"
      ],
      "text/plain": [
       "     ┌───────────────────────────────────────┐┌───┐┌─┐\n",
       "  q: ┤ Initialize(0.96891,0.23635+0.073113j) ├┤ H ├┤M├\n",
       "     └───────────────────────────────────────┘└───┘└╥┘\n",
       "c: 1/═══════════════════════════════════════════════╩═\n",
       "                                                    0 "
      ]
     },
     "metadata": {},
     "output_type": "display_data"
    },
    {
     "name": "stdout",
     "output_type": "stream",
     "text": [
      "Resultado:  {'1': 252, '0': 748}\n",
      "probability distribution = {'1': 0.252, '0': 0.748}\n",
      "<X> = 0.496\n"
     ]
    }
   ],
   "source": [
    "# Circuito\n",
    "circuit_X_mean = QuantumCircuit(quantum_reg, classic_reg)\n",
    "circuit_X_mean.initialize(Psi,0)\n",
    "circuit_X_mean.h(quantum_reg)\n",
    "circuit_X_mean.measure(quantum_reg, classic_reg)\n",
    "\n",
    "display(circuit_X_mean.draw())\n",
    "\n",
    "# Ejecutamos\n",
    "result_X_mean = my_circuit_simulation(circuit_X_mean, 1000)\n",
    "counts_X_mean = result_X_mean.get_counts()\n",
    "print(\"Resultado: \", counts_X_mean)\n",
    "\n",
    "# Distribución de probabilidad\n",
    "prob_distr_X_mean = my_get_prob_dist(counts_X_mean)\n",
    "print(\"probability distribution =\", prob_distr_X_mean)\n",
    "\n",
    "# Calculamos <X>\n",
    "mean_X = 0\n",
    "\n",
    "for bits, probs  in prob_distr_X_mean.items():\n",
    "    mean_X += (-1)**(int(bits)) * probs  \n",
    "\n",
    "print('<X> =',np.round(mean_X,5))"
   ]
  },
  {
   "cell_type": "markdown",
   "id": "75b9ddc8-99bc-45b2-9313-4f406a6982b5",
   "metadata": {},
   "source": [
    "<a id='sec_Notebooks_Circ_1_qubit_4.1.4'></a>\n",
    "#### Midiendo $\\langle Y \\rangle$"
   ]
  },
  {
   "cell_type": "code",
   "execution_count": 24,
   "id": "d72bc7d9-1dea-4e9c-a037-7a06875ce3bb",
   "metadata": {},
   "outputs": [
    {
     "data": {
      "text/html": [
       "<pre style=\"word-wrap: normal;white-space: pre;background: #fff0;line-height: 1.1;font-family: &quot;Courier New&quot;,Courier,monospace\">     ┌───────────────────────────────────────┐┌─────┐┌───┐┌─┐\n",
       "  q: ┤ Initialize(0.96891,0.23635+0.073113j) ├┤ Sdg ├┤ H ├┤M├\n",
       "     └───────────────────────────────────────┘└─────┘└───┘└╥┘\n",
       "c: 1/══════════════════════════════════════════════════════╩═\n",
       "                                                           0 </pre>"
      ],
      "text/plain": [
       "     ┌───────────────────────────────────────┐┌─────┐┌───┐┌─┐\n",
       "  q: ┤ Initialize(0.96891,0.23635+0.073113j) ├┤ Sdg ├┤ H ├┤M├\n",
       "     └───────────────────────────────────────┘└─────┘└───┘└╥┘\n",
       "c: 1/══════════════════════════════════════════════════════╩═\n",
       "                                                           0 "
      ]
     },
     "metadata": {},
     "output_type": "display_data"
    },
    {
     "name": "stdout",
     "output_type": "stream",
     "text": [
      "Resultado:  {'1': 388, '0': 612}\n",
      "probability distribution = {'1': 0.388, '0': 0.612}\n",
      "<Y> = 0.224\n"
     ]
    }
   ],
   "source": [
    "# Circuito\n",
    "circuit_Y_mean = QuantumCircuit(quantum_reg, classic_reg)\n",
    "circuit_Y_mean.initialize(Psi,0)\n",
    "circuit_Y_mean.sdg(quantum_reg)\n",
    "circuit_Y_mean.h(quantum_reg)\n",
    "circuit_Y_mean.measure(quantum_reg, classic_reg)\n",
    "\n",
    "display(circuit_Y_mean.draw())\n",
    "\n",
    "# Ejecutamos\n",
    "result_Y_mean = my_circuit_simulation(circuit_Y_mean, 1000)\n",
    "counts_Y_mean = result_Y_mean.get_counts()\n",
    "print(\"Resultado: \", counts_Y_mean)\n",
    "\n",
    "# Distribución de probabilidad\n",
    "prob_distr_Y_mean = my_get_prob_dist(counts_Y_mean)\n",
    "print(\"probability distribution =\", prob_distr_Y_mean)\n",
    "\n",
    "# Calculamos <Y>\n",
    "mean_Y = 0\n",
    "\n",
    "for bits, probs  in prob_distr_Y_mean.items():\n",
    "    mean_Y += (-1)**(int(bits)) * probs  \n",
    "\n",
    "print('<Y> =',np.round(mean_Y,5))"
   ]
  },
  {
   "cell_type": "markdown",
   "id": "1e58bc13-0a1d-4ff3-8bb3-824927475193",
   "metadata": {},
   "source": [
    "<div style=\"background-color:#c8e6c9\">\n",
    "<hr>\n",
    "<b>Ejercicio:</b>\n",
    "\n",
    "Toma los valores medios medidos anteriores $x=\\langle X \\rangle$, $y=\\langle Y \\rangle$, $z=\\langle Z \\rangle$ y a partir de ellos:\n",
    "- Construye el vector cartesiano $\\vec{n}=(x,y,z)$\n",
    "- Normalízalo: $\\hat{n}$\n",
    "- Dibúja estas coordenadas de $\\hat{n}$ sobre la esfera de Bloch (sugerencia: consulta la conversión de coordenadas cartesianas a esféricas: https://en.wikipedia.org/wiki/Spherical_coordinate_system#Cartesian_coordinates ; puedes dibujar un estado con las coordenadas esféricas resultantes)\n",
    "\n",
    "¿Qué observas? Explica el resultado\n",
    "<hr>\n",
    "</div>"
   ]
  },
  {
   "cell_type": "markdown",
   "id": "59981803-08de-454f-92e8-f40077c22041",
   "metadata": {},
   "source": [
    "<a id='sec_Notebooks_Circ_1_qubit_4.2'></a>\n",
    "### Valor esperado de un operador unitario (no necesariamente hermítico)"
   ]
  },
  {
   "cell_type": "markdown",
   "id": "4d48db7b-92da-4a2e-aff0-a3c3827f2040",
   "metadata": {},
   "source": [
    "Vamos a construir dos operadores U y V y calcular \n",
    "$$\\langle V \\rangle_\\Psi = \\langle \\Psi | V| \\Psi \\rangle = \\langle 0 | U^\\dagger V U |0\\rangle = \\langle 0 | {\\tilde \\Psi} \\rangle\n",
    "$$"
   ]
  },
  {
   "cell_type": "code",
   "execution_count": 25,
   "id": "8ec7b05d-a778-406f-adba-f1f93c896a7a",
   "metadata": {},
   "outputs": [
    {
     "data": {
      "text/html": [
       "<pre style=\"word-wrap: normal;white-space: pre;background: #fff0;line-height: 1.1;font-family: &quot;Courier New&quot;,Courier,monospace\">     ┌───────────────┐┌──────────────────┐┌──────────────────┐┌─┐\n",
       "  q: ┤ U3(π/6,π/2,π) ├┤ U3(π/2,π/3,2π/7) ├┤ U3(-π/6,-π,-π/2) ├┤M├\n",
       "     └───────────────┘└──────────────────┘└──────────────────┘└╥┘\n",
       "c: 1/══════════════════════════════════════════════════════════╩═\n",
       "                                                               0 </pre>"
      ],
      "text/plain": [
       "     ┌───────────────┐┌──────────────────┐┌──────────────────┐┌─┐\n",
       "  q: ┤ U3(π/6,π/2,π) ├┤ U3(π/2,π/3,2π/7) ├┤ U3(-π/6,-π,-π/2) ├┤M├\n",
       "     └───────────────┘└──────────────────┘└──────────────────┘└╥┘\n",
       "c: 1/══════════════════════════════════════════════════════════╩═\n",
       "                                                               0 "
      ]
     },
     "metadata": {},
     "output_type": "display_data"
    },
    {
     "data": {
      "text/html": [
       "<pre style=\"word-wrap: normal;white-space: pre;background: #fff0;line-height: 1.1;font-family: &quot;Courier New&quot;,Courier,monospace\">global phase: 6.1192\n",
       "     ┌────────────────────────────┐┌─┐\n",
       "  q: ┤ U3(0.65757,2.8716,-0.5988) ├┤M├\n",
       "     └────────────────────────────┘└╥┘\n",
       "c: 1/═══════════════════════════════╩═\n",
       "                                    0 </pre>"
      ],
      "text/plain": [
       "global phase: 6.1192\n",
       "     ┌────────────────────────────┐┌─┐\n",
       "  q: ┤ U3(0.65757,2.8716,-0.5988) ├┤M├\n",
       "     └────────────────────────────┘└╥┘\n",
       "c: 1/═══════════════════════════════╩═\n",
       "                                    0 "
      ]
     },
     "metadata": {},
     "output_type": "display_data"
    },
    {
     "name": "stdout",
     "output_type": "stream",
     "text": [
      "Resultado:  {'1': 5182, '0': 44818}\n",
      " |<V>| =  0.9467629059062254 ,  ||<V>||^2 =  0.8963600000000002\n"
     ]
    }
   ],
   "source": [
    "from qiskit.circuit.library import U3Gate\n",
    "\n",
    "circuit_V_mean = QuantumCircuit(quantum_reg, classic_reg)\n",
    "\n",
    "theta_U  = np.pi/6\n",
    "phi_U    = np.pi/2\n",
    "varphi_U = np.pi\n",
    "U        = U3Gate(theta_U, phi_U, varphi_U)\n",
    "U_dagger = U3Gate(theta_U, phi_U, varphi_U).inverse()\n",
    "\n",
    "theta_V  = np.pi/2\n",
    "phi_V    = np.pi/3\n",
    "varphi_V = 2*np.pi/7\n",
    "V        = U3Gate(theta_V, phi_V, varphi_V)\n",
    "\n",
    "circuit_V_mean.append(U, quantum_reg)\n",
    "circuit_V_mean.append(V, quantum_reg)\n",
    "circuit_V_mean.append(U_dagger, quantum_reg)\n",
    "circuit_V_mean.measure(quantum_reg, classic_reg)\n",
    "\n",
    "display(circuit_V_mean.draw())\n",
    "\n",
    "# Transpilamos\n",
    "t_circuit_V_mean = transpile(circuit_V_mean, backend = simulador)\n",
    "\n",
    "display(t_circuit_V_mean.draw())\n",
    "\n",
    "# Ejecutamos\n",
    "shots = 50000\n",
    "result_V_mean = simulador.run(t_circuit_V_mean, shots = shots).result()\n",
    "counts_V_mean = result_V_mean.get_counts()\n",
    "print(\"Resultado: \", counts_V_mean)\n",
    "\n",
    "# Media\n",
    "V_mean = np.sqrt(counts_V_mean['0']/shots)\n",
    "print(\" |<V>| = \", V_mean, \",  ||<V>||^2 = \", np.abs(V_mean) ** 2)"
   ]
  },
  {
   "cell_type": "code",
   "execution_count": null,
   "id": "f7a8bfce-8508-4a59-a6e8-282e26994299",
   "metadata": {},
   "outputs": [],
   "source": []
  },
  {
   "cell_type": "markdown",
   "id": "00ad3bd9-a960-4924-8edf-b42429db903e",
   "metadata": {},
   "source": [
    "<div style=\"background-color:#c8e6c9\">\n",
    "<hr>\n",
    "<b>Ejercicio:</b>\n",
    "\n",
    "<!--\n",
    "<b> <font size=\"+1\"><span style=\"color:red\">[OPCIONAL, PARA OPTAR A NOTA] </span></font></b>\n",
    "-->\n",
    "\n",
    "Con el método Qiskit ```.to_matrix()``` de los operadores, como, U y V, se puede obtener la representación matricial de los mismos.\n",
    "\n",
    "A partir de dicha representación, determina numéricamente las siguientes espressiones, que son equivalentes a la medición anterior (nótese que $|\\Psi\\rangle = U |0\\rangle$ y $| \\tilde{\\Psi}\\rangle = U^{\\dagger} V U |0\\rangle$):\n",
    "\n",
    "- $||\\langle \\Psi | V| \\Psi\\rangle ||^2$\n",
    "- $||\\langle 0 | U^{\\dagger} V U | 0 \\rangle ||^2$\n",
    "- $||\\langle 0|\\tilde{\\Psi} \\rangle||^2$\n",
    "\n",
    "Observando los valores de las expresiones $\\langle \\Psi | V| \\Psi \\rangle$, $\\langle 0|\\tilde{\\Psi} \\rangle$:\n",
    "- ¿pueden tener un _valor complejo_ en este caso?\n",
    "\n",
    "<hr>\n",
    "</div>"
   ]
  },
  {
   "cell_type": "code",
   "execution_count": 26,
   "id": "3aaf7268-89d0-4cbd-93d3-2d661fc12001",
   "metadata": {},
   "outputs": [
    {
     "data": {
      "text/html": [
       "<h3>Version Information</h3><table><tr><th>Software</th><th>Version</th></tr><tr><td><code>qiskit</code></td><td>0.45.2</td></tr><tr><td><code>qiskit_aer</code></td><td>0.14.2</td></tr><tr><td><code>qiskit_ibm_runtime</code></td><td>0.20.0</td></tr><tr><th colspan='2'>System information</th></tr><tr><td>Python version</td><td>3.12.5</td></tr><tr><td>Python compiler</td><td>GCC 11.2.0</td></tr><tr><td>Python build</td><td>main, Sep 12 2024 18:27:27</td></tr><tr><td>OS</td><td>Linux</td></tr><tr><td>CPUs</td><td>12</td></tr><tr><td>Memory (Gb)</td><td>62.50071334838867</td></tr><tr><td colspan='2'>Mon Oct 07 11:47:56 2024 CEST</td></tr></table>"
      ],
      "text/plain": [
       "<IPython.core.display.HTML object>"
      ]
     },
     "metadata": {},
     "output_type": "display_data"
    }
   ],
   "source": [
    "import qiskit\n",
    "from qiskit_aer import AerSimulator\n",
    "import qiskit.tools.jupyter\n",
    "%qiskit_version_table"
   ]
  }
 ],
 "metadata": {
  "kernelspec": {
   "display_name": "Python 3 (ipykernel)",
   "language": "python",
   "name": "python3"
  },
  "language_info": {
   "codemirror_mode": {
    "name": "ipython",
    "version": 3
   },
   "file_extension": ".py",
   "mimetype": "text/x-python",
   "name": "python",
   "nbconvert_exporter": "python",
   "pygments_lexer": "ipython3",
   "version": "3.12.5"
  }
 },
 "nbformat": 4,
 "nbformat_minor": 5
}
