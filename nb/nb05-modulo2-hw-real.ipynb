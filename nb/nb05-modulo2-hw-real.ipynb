{
 "cells": [
  {
   "cell_type": "code",
   "execution_count": null,
   "id": "cdfc07da-b773-4048-a6b8-1258f41edd85",
   "metadata": {},
   "outputs": [],
   "source": [
    "# No olvidar que en \"google colab\" hay que instalar qiskit\n",
    "\n",
    "########################\n",
    "# PARA LANZAR EN EL HW DE IBM\n",
    "# SE REQUIERE LA ÚLTIMA VERSIÓN\n",
    "########################\n",
    "# Instalar versión 1.2.2\n",
    "########################\n",
    "# Importante, poner qiskit-aer en la misma linea de \"pip install\" para que coja la versión adecuada\n",
    "try:\n",
    "    import google.colab\n",
    "    print(\"In colab, let's install things...\")\n",
    "    #\n",
    "    !pip install qiskit[visualization]==1.2.2 qiskit-aer qiskit-ibm-runtime\n",
    "except ImportError:\n",
    "    print(\"NOT in colab\")"
   ]
  },
  {
   "cell_type": "code",
   "execution_count": null,
   "id": "3aaf7268-89d0-4cbd-93d3-2d661fc12001",
   "metadata": {},
   "outputs": [],
   "source": [
    "import qiskit\n",
    "from qiskit_aer import AerSimulator\n",
    "print('Qiskit version', qiskit.__version__)\n",
    "import numpy\n",
    "import scipy\n",
    "print(\"Numpy version\", numpy.__version__)\n",
    "print(\"Scipy version\", scipy.__version__)"
   ]
  },
  {
   "cell_type": "code",
   "execution_count": null,
   "id": "0e7883d6-0e8f-4f24-af8f-228c4c79e46f",
   "metadata": {},
   "outputs": [],
   "source": [
    "from IPython.display import display, Latex, Markdown\n",
    "from matplotlib import pyplot as plt\n",
    "import scipy.linalg as la\n",
    "import numpy as np"
   ]
  },
  {
   "cell_type": "code",
   "execution_count": null,
   "id": "83412cb3-3dac-4059-b2c1-ab9eb7e07fd4",
   "metadata": {},
   "outputs": [],
   "source": [
    "from qiskit.circuit import QuantumRegister, ClassicalRegister,QuantumCircuit\n",
    "from qiskit_aer import AerSimulator\n",
    "from qiskit import transpile\n",
    "from qiskit.quantum_info import Statevector\n",
    "from qiskit.quantum_info import Statevector, schmidt_decomposition\n",
    "from qiskit.visualization import plot_histogram, plot_bloch_multivector, array_to_latex  "
   ]
  },
  {
   "cell_type": "markdown",
   "id": "565004f4-9361-40cb-b9b5-1cdc6939c9f8",
   "metadata": {},
   "source": [
    "<a id='sec_Notebooks_Circ_1_qubit_2'></a>\n",
    "## Envío de trabajos a un ordenador real de IBM   "
   ]
  },
  {
   "cell_type": "markdown",
   "id": "7857239b-9053-4fb7-a8e5-6d6a98a76ab3",
   "metadata": {},
   "source": [
    "Para enviar trabajos a los ordenadores cuánticos de IBM, **en primer lugar necesitamos es una cuenta en [IBMid](https://quantum-computing.ibm.com/).**\n",
    "\n",
    "Una vez creada la cuenta, hay que tomar el **token** que aparece en la página principal. Este lo pegamos en la línea comentada más abajo, cuando el cliente realiza la conexión."
   ]
  },
  {
   "cell_type": "markdown",
   "id": "37bb73a3-25bd-4c2e-8c6f-39b42824324a",
   "metadata": {},
   "source": [
    "Vamos a usar ```qiskit_ibm_runtime``` para mandar trabajos y vamos a usar la primitive sampler\n",
    "- Mas información sobre como guardar la cuenta: https://docs.quantum.ibm.com/guides/setup-channel\n",
    "- Más información sobre las primitives: https://docs.quantum.ibm.com/guides/get-started-with-primitives\n",
    "- Más información sobre lanzar sobre el HW real: https://docs.quantum.ibm.com/guides/hello-world#step-4-analyze-the-results"
   ]
  },
  {
   "cell_type": "markdown",
   "id": "481542bb-a4b4-480a-ad48-3b0fe97869e3",
   "metadata": {},
   "source": [
    "### Creamos un circuito para probar"
   ]
  },
  {
   "cell_type": "code",
   "execution_count": null,
   "id": "39aaa46e-2493-4a8c-b7c5-e68ff842297d",
   "metadata": {},
   "outputs": [],
   "source": [
    "# Creamos el circuito pasandole los registros\n",
    "qr = QuantumRegister(1)\n",
    "cr = ClassicalRegister(1)\n",
    "circuit_H = QuantumCircuit(qr, cr)\n",
    "\n",
    "# Añadimos la puerta X al primer (y único) qúbit\n",
    "circuit_H.h(0)\n",
    "\n",
    "# Añadimos el medidor\n",
    "circuit_H.measure(qr, cr)\n",
    "\n",
    "# Podemos dibujarlo como figura de matplolib\n",
    "display(circuit_H.draw(output='mpl', style=\"iqp\"))"
   ]
  },
  {
   "cell_type": "markdown",
   "id": "167f2543-c3fc-4f29-b777-c21c4721bcf1",
   "metadata": {},
   "source": [
    "### Inicializamos la cuenta"
   ]
  },
  {
   "cell_type": "markdown",
   "id": "07b471fa-f581-4994-873d-499d0cec078d",
   "metadata": {},
   "source": [
    "Dado que Qiskit Runtime `Sampler` es un servicio gestionado, primero debe inicializar su cuenta. A continuación, puede seleccionar el simulador o el sistema real que desea utilizar para calcular el valor esperado"
   ]
  },
  {
   "cell_type": "code",
   "execution_count": null,
   "id": "c7e490e9-0f53-4c1f-a93b-64be0c867025",
   "metadata": {},
   "outputs": [],
   "source": [
    "from qiskit_ibm_runtime import QiskitRuntimeService\n",
    "\n",
    "# Save an IBM Quantum account and set it as your default account.\n",
    "#MY_API_TOKEN=\"...\"\n",
    "QiskitRuntimeService.save_account(\n",
    "    channel=\"ibm_quantum\",\n",
    "    token='PEGA AQUÍ TU TOKEN DE USUARIO',\n",
    "    set_as_default=True,\n",
    "    # Use `overwrite=True` if you're updating your token.\n",
    "    overwrite=True,\n",
    ")\n",
    "\n",
    "service = QiskitRuntimeService()\n",
    "backend = service.least_busy(operational=True, simulator=False, min_num_qubits=5)"
   ]
  },
  {
   "cell_type": "markdown",
   "id": "024165d5-07c3-4b8e-bf60-707f4e97d361",
   "metadata": {},
   "source": [
    "Veamos el backend (ordenador) escogido:"
   ]
  },
  {
   "cell_type": "code",
   "execution_count": null,
   "id": "8f4c389b-2056-45cb-9326-eaa5728f56a8",
   "metadata": {
    "scrolled": true
   },
   "outputs": [],
   "source": [
    "print(backend)"
   ]
  },
  {
   "cell_type": "markdown",
   "id": "a5c83201-bd3d-4019-92a0-d07842bbbe09",
   "metadata": {},
   "source": [
    "### Preparamos el circuito"
   ]
  },
  {
   "cell_type": "markdown",
   "id": "4138f94c-80bd-4fb0-b1f2-3ce20c373774",
   "metadata": {},
   "source": [
    "Vamos a mandar a ejecutar en hardware real el circuito de la puerta H.\n",
    "\n",
    "Para ello, primero tenemos que generarl el ISA circuit"
   ]
  },
  {
   "cell_type": "code",
   "execution_count": null,
   "id": "04164261-a17a-4259-befe-7fe5b89decdd",
   "metadata": {},
   "outputs": [],
   "source": [
    "from qiskit.transpiler.preset_passmanagers import generate_preset_pass_manager\n",
    "\n",
    "pm = generate_preset_pass_manager(optimization_level=1, backend=backend)\n",
    "isa_circuit_H = pm.run(circuit_H)"
   ]
  },
  {
   "cell_type": "markdown",
   "id": "a43486e5-4263-4755-b4fe-cf490cd3e1a7",
   "metadata": {},
   "source": [
    "### Inicializamos el Qiskit Runtime Sampler"
   ]
  },
  {
   "cell_type": "markdown",
   "id": "17b2b6a8-f349-40c6-a42c-e41b454e2a3a",
   "metadata": {},
   "source": [
    "Al inicializar el `Sampler`, utilice el parámetro `mode` para especificar el modo en el que desea que se ejecute. "
   ]
  },
  {
   "cell_type": "code",
   "execution_count": null,
   "id": "8d8cd040-5bad-42f2-a43b-85bb96e9a51a",
   "metadata": {},
   "outputs": [],
   "source": [
    "#from qiskit_ibm_runtime import Sampler\n",
    "#sampler = Sampler(backend=backend)\n",
    "\n",
    "#Para versiones modernas de Qiskit\n",
    "from qiskit_ibm_runtime import SamplerV2 as Sampler  \n",
    "sampler = Sampler(mode=backend)"
   ]
  },
  {
   "cell_type": "markdown",
   "id": "904e9351-4748-49dc-9ceb-cff96940191c",
   "metadata": {},
   "source": [
    "### Invocamos el sampler y obtenemos los resultados"
   ]
  },
  {
   "cell_type": "code",
   "execution_count": null,
   "id": "71683f74-8c7c-4653-bff1-5b8dea3bc0b2",
   "metadata": {},
   "outputs": [],
   "source": [
    "job = sampler.run([isa_circuit_H])\n",
    "print(f\">>> Job ID: {job.job_id()}\")\n",
    "print(f\">>> Job Status: {job.status()}\")"
   ]
  },
  {
   "cell_type": "markdown",
   "id": "5caaca16-19f3-48e4-9d0c-1a3359078e4e",
   "metadata": {},
   "source": [
    "Podemos monitorizar desde el notebook en que estado está nuestro trabajo. \n",
    "\n",
    "Otra obción es hacerlo desde la web de los servicios cuánticos de IBM: **[https://quantum-computing.ibm.com/jobs](https://quantum-computing.ibm.com/jobs)**\n",
    "\n",
    "La celda siguiente podemos correrla tantas veces como queramos para ver como está nuestro trabajo."
   ]
  },
  {
   "cell_type": "code",
   "execution_count": null,
   "id": "cc7ff9fa-623f-4402-b472-cb9185a21c07",
   "metadata": {
    "scrolled": true
   },
   "outputs": [],
   "source": [
    "job.status()"
   ]
  },
  {
   "cell_type": "code",
   "execution_count": null,
   "id": "56a48a12-08c6-46d8-aa63-16c605279ff8",
   "metadata": {},
   "outputs": [],
   "source": [
    "import time\n",
    "time.sleep(30)"
   ]
  },
  {
   "cell_type": "code",
   "execution_count": null,
   "id": "21f464a5-ca4b-4fbf-aab9-2b49fe800e00",
   "metadata": {},
   "outputs": [],
   "source": [
    "job.status()"
   ]
  },
  {
   "cell_type": "code",
   "execution_count": null,
   "id": "dfa9b051-d3ce-44b5-bb10-1da1fef832c5",
   "metadata": {},
   "outputs": [],
   "source": [
    "print(job.status())"
   ]
  },
  {
   "cell_type": "markdown",
   "id": "70c510cf-2b4f-4a34-96d2-f35d16c5f877",
   "metadata": {},
   "source": [
    "También podemos usar el job_monitor, que se actualiza solo sin tener que ejecutar varias veces la celda."
   ]
  },
  {
   "cell_type": "code",
   "execution_count": null,
   "id": "f9c74836-26b9-4cf6-82a7-512c3ff595cd",
   "metadata": {},
   "outputs": [],
   "source": [
    "#job_monitor(job, interval = 10, line_discipline = '\\n') "
   ]
  },
  {
   "cell_type": "code",
   "execution_count": null,
   "id": "e48a61b0-6585-4cf0-9131-e5cf3d34b202",
   "metadata": {},
   "outputs": [],
   "source": [
    "result_IBM = job.result()\n",
    "print(f\">>> {result_IBM}\\n\")\n",
    "try:\n",
    "    print(f\"  > Quasi-probability distribution: {result_IBM.quasi_dists[0]}\\n\")\n",
    "    print(f\"  > Metadata: {result_IBM.metadata[0]}\\n\")\n",
    "except:\n",
    "    pass"
   ]
  },
  {
   "cell_type": "markdown",
   "id": "2b5e3252-19ca-4c93-9ff3-e4c0a4d379fa",
   "metadata": {},
   "source": [
    "<a id='sec_Notebooks_Circ_1_qubit_2.1'></a>\n",
    "### Recuperar resultados de trabajos anteriores con el job id"
   ]
  },
  {
   "cell_type": "markdown",
   "id": "39de67b5-bbdc-4783-a043-640808a1405d",
   "metadata": {},
   "source": [
    "Es importante guardar el Job Id, pues con el podemos recuperar los resultados de un trabajo anterior. Por ejemplo, lo que podemos hacer es ejecutar un circuito y si vemos usando `job.status()` que tarda mucho en entrar en ejecución, podemos anotarnos el id y otro ver los resultado, sin tener que dejar el Notebook abierto."
   ]
  },
  {
   "cell_type": "code",
   "execution_count": null,
   "id": "bf7c84a9-7aa5-4661-b426-91d5cf0c986e",
   "metadata": {},
   "outputs": [],
   "source": [
    "# Utilizar el job anterior o poner uno existente\n",
    "# Ver: https://quantum.ibm.com/workloads para la lista de jobs\n",
    "\n",
    "#job_id=\"cvrkpwk55th0008rv9q0\"\n",
    "job_id = job.job_id()\n",
    "print(f\"job id = {job_id}\")"
   ]
  },
  {
   "cell_type": "code",
   "execution_count": null,
   "id": "f531dc68-f751-48c7-acaf-ab59ee336389",
   "metadata": {},
   "outputs": [],
   "source": [
    "# Podemos listar todos los jobs\n",
    "jobs = service.jobs()\n",
    "display(jobs)\n",
    "print(\"---\")\n",
    "\n",
    "# Coger uno en particular\n",
    "job = service.job(job_id)\n",
    "display(job)\n",
    "print(\"---\")\n",
    "\n",
    "# Métricas de la ejecución\n",
    "jmet = job.metrics()\n",
    "display(jmet)\n",
    "print(\"---\")\n",
    "\n",
    "# Resultado de la ejecución (de aquí obtenemos el histograma)\n",
    "job_result = job.result()\n",
    "display(job_result)\n",
    "print(\"---\")"
   ]
  },
  {
   "cell_type": "code",
   "execution_count": null,
   "id": "d01106ae-7109-4c8b-8961-204a961f357d",
   "metadata": {},
   "outputs": [],
   "source": [
    "# Pinchando en un job particular en https://quantum.ibm.com/workloads\n",
    "# se muestra un código para obtener los resultados del job\n",
    "\n",
    "# To get counts for a particular pub result, use \n",
    "#\n",
    "# pub_result = job_result[<idx>].data.<classical register>.get_counts()\n",
    "#\n",
    "# where <idx> is the index of the pub and <classical register> is the name of the classical register. \n",
    "# You can use circuit.cregs to find the name of the classical registers.\n",
    "\n",
    "pub_result = job_result[0].data.c0.get_counts()\n",
    "display(pub_result)"
   ]
  },
  {
   "cell_type": "code",
   "execution_count": null,
   "id": "6509fefc-aec6-4777-a151-50a8324b68e7",
   "metadata": {},
   "outputs": [],
   "source": [
    "display(plot_histogram(pub_result, figsize=(2,2)))\n"
   ]
  },
  {
   "cell_type": "markdown",
   "id": "1154b238-4e2d-4ac8-8019-f1e4e7a14e71",
   "metadata": {},
   "source": [
    "### Más sobre el HW cuántico IBM"
   ]
  },
  {
   "cell_type": "code",
   "execution_count": null,
   "id": "1bbaaa41-22ca-4db4-a6c9-79d456d5f82a",
   "metadata": {},
   "outputs": [],
   "source": [
    "# Listar todos los backend públicos disponibles\n",
    "be = []\n",
    "backends = service.backends()\n",
    "for backend in backends:\n",
    "    print(backend.name)\n",
    "    be.append(backend)"
   ]
  },
  {
   "cell_type": "code",
   "execution_count": null,
   "id": "b04e2798-badc-446b-942b-563d083e00c8",
   "metadata": {},
   "outputs": [],
   "source": [
    "# Obtener detalles sobre un 'backend' particular (i.e., 'ibmq_manila')\n",
    "\n",
    "#backend_name = 'ibmq_kyiv'  # Sustituir por el nombre del backend\n",
    "#backend = service.backend(backend_name)\n",
    "\n",
    "backend = be[0] # Vamos a coger uno de ellos, el primero\n",
    "\n",
    "# Backend status\n",
    "display(backend.status())\n",
    "display(backend.status().to_dict())\n",
    "print(\"--------\\n\")\n",
    "\n",
    "\n",
    "# Backend configuration\n",
    "display(backend.configuration())\n",
    "#display(backend.configuration().to_dict())\n",
    "nqubits = backend.configuration().num_qubits\n",
    "print(\"# qubits:{0}\".format(nqubits))\n",
    "print(\"--------\\n\")\n",
    "\n",
    "# Backend properties\n",
    "display(backend.properties())\n",
    "# display(backend.properties().to_dict())\n",
    "# Tiempos de decoherencia qubit 0\n",
    "print(\"qubit 0, T1={:.6f}\".format(backend.properties().t1(0).real))\n",
    "print(\"qubit 0, T2={:.6f}\".format(backend.properties().t2(0).real))\n",
    "print(\"--------\\n\")\n"
   ]
  },
  {
   "cell_type": "markdown",
   "id": "bf696ea2-f965-42eb-b77b-15a3ee26ac13",
   "metadata": {},
   "source": [
    "<div style=\"background-color:#c8e6c9\">\n",
    "<hr>\n",
    "<b>Ejercicio:</b>\n",
    "    \n",
    "<b> <!-- font size=\"+1\"><span style=\"color:red\">[OPCIONAL, PARA OPTAR A NOTA] </span></font --></b>\n",
    "- Busca infomación sobre los parámetros de decoherencia T1, y T2:  \n",
    "  - ¿qué significan?\n",
    "  - ¿de qué manera empírica se podrían obtener?\n",
    "  \n",
    "\n",
    "- Obtén alguna(s) medida(s) de las tasas de error que se proporcionan (por ejemplo de lectura de un qubit, o de alguna puerta). Para ello investiga la lista de propiedades proporcionada por el método <tt>backend.properties()</tt>.\n",
    "\n",
    "<hr>\n",
    "</div>"
   ]
  }
 ],
 "metadata": {
  "kernelspec": {
   "display_name": "Python 3 (ipykernel)",
   "language": "python",
   "name": "python3"
  },
  "language_info": {
   "codemirror_mode": {
    "name": "ipython",
    "version": 3
   },
   "file_extension": ".py",
   "mimetype": "text/x-python",
   "name": "python",
   "nbconvert_exporter": "python",
   "pygments_lexer": "ipython3",
   "version": "3.12.5"
  }
 },
 "nbformat": 4,
 "nbformat_minor": 5
}
