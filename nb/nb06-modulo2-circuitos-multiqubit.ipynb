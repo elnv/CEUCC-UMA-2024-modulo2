{
 "cells": [
  {
   "cell_type": "code",
   "execution_count": null,
   "id": "cdfc07da-b773-4048-a6b8-1258f41edd85",
   "metadata": {},
   "outputs": [],
   "source": [
    "# No olvidar que en \"google colab\" hay que instalar qiskit\n",
    "\n",
    "########################\n",
    "# Instala versión 0.45.2\n",
    "########################\n",
    "# Importante, poner qiskit-aer en la misma linea de \"pip install\" para que coja la versión adecuada\n",
    "try:\n",
    "    import google.colab\n",
    "    print(\"In colab, let's install things...\")\n",
    "    #\n",
    "    !pip install qiskit[visualization]==0.45.2 qiskit-aer qiskit-ibm-runtime\n",
    "except ImportError:\n",
    "    print(\"NOT in colab\")"
   ]
  },
  {
   "cell_type": "markdown",
   "id": "ae2c465a-5e5e-4e68-a4f1-b2249651ceb9",
   "metadata": {},
   "source": [
    "<a id='sec_Notebooks_Circ_1_qubit'></a>\n",
    "# Circuitos multiqubit\n",
    "$\\newcommand{\\ket}[1]{|#1\\rangle}$"
   ]
  },
  {
   "cell_type": "code",
   "execution_count": null,
   "id": "0e7883d6-0e8f-4f24-af8f-228c4c79e46f",
   "metadata": {},
   "outputs": [],
   "source": [
    "from IPython.display import display, Latex, Markdown\n",
    "from matplotlib import pyplot as plt\n",
    "import scipy.linalg as la\n",
    "import numpy as np"
   ]
  },
  {
   "cell_type": "code",
   "execution_count": null,
   "id": "83412cb3-3dac-4059-b2c1-ab9eb7e07fd4",
   "metadata": {},
   "outputs": [],
   "source": [
    "from qiskit.circuit import QuantumRegister, ClassicalRegister,QuantumCircuit\n",
    "from qiskit_aer import AerSimulator\n",
    "from qiskit import transpile\n",
    "from qiskit.quantum_info import Statevector, schmidt_decomposition\n",
    "from qiskit.visualization import plot_histogram, plot_bloch_multivector, plot_state_qsphere, array_to_latex  "
   ]
  },
  {
   "cell_type": "code",
   "execution_count": null,
   "id": "8b677d21-8a76-4ff6-ba66-869a863e3ce5",
   "metadata": {},
   "outputs": [],
   "source": [
    "# Utilería acumulada\n",
    "\n",
    "# Definimos una función para visualizar el estado y la esfera a la vez\n",
    "# Permite escalar la(s) esferas(s) con 'inches' pulgadas, si este parámetro\n",
    "# no se pone, se dibuja al tamaño por defecto\n",
    "# Si se pone 0, no se dibuja la esfera\n",
    "def my_display_state_vector(psi, inches=None, prefix=r\"|\\psi\\rangle = \"):\n",
    "    if isinstance(psi, Statevector):\n",
    "        d_latex = psi.draw('latex', prefix=prefix)\n",
    "        display(d_latex)\n",
    "        #\n",
    "        d_bloch = psi.draw('bloch')\n",
    "        if isinstance(inches, (int,float)):\n",
    "            if inches > 0:\n",
    "                d_bloch.set_size_inches(inches, inches, forward=True)\n",
    "                display(d_bloch)\n",
    "        else:\n",
    "            display(d_bloch)\n",
    "\n",
    "#----------------------------------------------------------\n",
    "\n",
    "# Función para simular un circuito con el método \"statevector\"\n",
    "# Devuelve el resultado de la simulación\n",
    "def my_circuit_simulate_statevector(qcirc, shots=1):\n",
    "    # Instancia del simulador\n",
    "    sim = AerSimulator(method = \"statevector\")\n",
    "     \n",
    "    # Hacemos una simulación y obtenemos los resultados\n",
    "    qobj = transpile(qcirc, backend=sim)\n",
    "    result = sim.run(qobj, shots=shots).result()\n",
    "    \n",
    "    return result\n",
    "    \n",
    "# Función para simular un circuito con el método \"unitary\"\n",
    "# Devuelve el resultado de la simulación\n",
    "def my_circuit_simulate_unitary(qcirc, shots=1):\n",
    "    # Instancia del simulador\n",
    "    sim = AerSimulator(method = \"unitary\")\n",
    "     \n",
    "    # Hacemos una simulación y obtenemos los resultados\n",
    "    qobj = transpile(qcirc, backend=sim)\n",
    "    result = sim.run(qobj, shots=shots).result()\n",
    "    \n",
    "    return result\n",
    "    \n",
    "#----------------------------------------------------------\n",
    "\n",
    "# Función para obtener el vector de estado final de un cirucito dado\n",
    "# usando la simulación de vector de estado.\n",
    "# Devuelve esta tupla de 3 elementos:\n",
    "#         (estado final, cuenta, resultado)\n",
    "def my_get_circuit_state(qcirc_in, shots=1, final_probe=True):\n",
    "    # Hacemos una copia ya que vamos a cambiar el objeto circuito\n",
    "    qcirc = qcirc_in.copy()\n",
    "    \n",
    "    # Ponemos el \"probe\" para el vector de estado al final\n",
    "    # del cirucito dado\n",
    "    # ojo! el circuito no debe de tener un \"save_statevector\" ya!\n",
    "    if final_probe:\n",
    "        qcirc.save_statevector()\n",
    "    \n",
    "    # Hacemos una simulación y obtenemos los resultados\n",
    "    result = my_circuit_simulate_statevector(qcirc, shots)\n",
    "    state = None\n",
    "    if final_probe:\n",
    "        state = result.get_statevector()\n",
    "    counts = result.get_counts()\n",
    "    \n",
    "    return state, counts, result\n",
    "\n",
    "# Función para obtener la matriz unitaria final de un cirucito dado\n",
    "# usando la simulación de matriz unitaria.\n",
    "# Devuelve esta tupla de 2 elementos:\n",
    "#         (unitary, resultado)\n",
    "def my_get_circuit_unitary(qcirc_in, shots=1, final_probe=True):\n",
    "    # Hacemos una copia ya que vamos a cambiar el objeto circuito\n",
    "    qcirc = qcirc_in.copy()\n",
    "    \n",
    "    # Ponemos el \"probe\" para el vector de estado al final\n",
    "    # del cirucito dado\n",
    "    # ojo! el circuito no debe de tener un \"save_statevector\" ya!\n",
    "    if final_probe:\n",
    "        qcirc.save_unitary()\n",
    "    \n",
    "    # Hacemos una simulación y obtenemos los resultados\n",
    "    result = my_circuit_simulate_unitary(qcirc, shots)\n",
    "    unitary = result.get_unitary()\n",
    "    \n",
    "    return unitary, result\n"
   ]
  },
  {
   "cell_type": "markdown",
   "id": "5ad12c46-0d73-47b0-9c40-975475d2b62b",
   "metadata": {},
   "source": [
    "<a id='sec_Notebooks_Circ_multiqubit_1'></a>\n",
    "## Más sobre simuladores \n",
    "\n",
    "El simulador _Qiskit Aer_ incluye diferentes métodos de simulación para simular diferentes aspectos del cicuito, según necesitemos.\n",
    "\n",
    "Vamos a listar los simuladores disponibles usando ```AerSimulator().available_methods()```."
   ]
  },
  {
   "cell_type": "code",
   "execution_count": null,
   "id": "2c3920d2-6aee-4f91-ae10-ac15b3437577",
   "metadata": {},
   "outputs": [],
   "source": [
    "from qiskit_aer import AerSimulator\n",
    "print(\"AerSimulator().available_methods():\")\n",
    "display(AerSimulator().available_methods())"
   ]
  },
  {
   "cell_type": "markdown",
   "id": "627f909e-330e-49b1-b178-2e58a50c3bd1",
   "metadata": {},
   "source": [
    "<div style=\"background-color:#c8e6c9\">\n",
    "<hr>\n",
    "<b>Ejercicio:</b>\n",
    "Busca información sobre los métodos de simulación, y brevemente indica cuál es la finalidad de cada uno de ellos.\n",
    "\n",
    "Puedes buscar información en la referencia del simulador Aer: https://qiskit.github.io/qiskit-aer/stubs/qiskit_aer.AerSimulator.html#qiskit_aer.AerSimulator\n",
    "<hr>\n",
    "</div>"
   ]
  },
  {
   "cell_type": "markdown",
   "id": "696504ec-8da0-4a07-b590-48abf4528023",
   "metadata": {},
   "source": [
    "<a id='sec_Notebooks_Circ_multiqubit_1'></a>\n",
    "## Circuitos de dos qúbits con una CNOT  "
   ]
  },
  {
   "cell_type": "markdown",
   "id": "5306c72e-020d-4b2b-991f-bb20ff134c42",
   "metadata": {},
   "source": [
    "<a id='sec_Notebooks_Circ_multiqubit_1.1'></a>\n",
    "### CNOT con el control abajo"
   ]
  },
  {
   "cell_type": "markdown",
   "id": "66ece3b7-5b80-431c-828b-ff1ee5624409",
   "metadata": {},
   "source": [
    "Primero vamos a ver las matrices para la CNOT con el control abajo y arriba (en Qiskit). Después veremos varias ejecucciones de circuitos con CNOTs"
   ]
  },
  {
   "cell_type": "code",
   "execution_count": null,
   "id": "27877c4f-2f5d-4027-8f3c-e9f9b22cb201",
   "metadata": {
    "scrolled": true
   },
   "outputs": [],
   "source": [
    "# Registros\n",
    "quantum_reg_2_qubits = QuantumRegister(2,'q') \n",
    "\n",
    "# Circuito\n",
    "circuit_CNOT = QuantumCircuit(quantum_reg_2_qubits)#, classic_reg_2_bits)\n",
    "# Añadimos la CNOT\n",
    "circuit_CNOT.cx(1,0) #(control, target)\n",
    "circuit_CNOT.draw('mpl',style=\"iqp\")\n"
   ]
  },
  {
   "cell_type": "code",
   "execution_count": null,
   "id": "ce216521-d376-40b4-83c3-efc3758fa437",
   "metadata": {
    "scrolled": true
   },
   "outputs": [],
   "source": [
    "# Simulación de vector de estado\n",
    "s, c,rs = my_get_circuit_state(circuit_CNOT, shots=1)\n",
    "\n",
    "# Simulación de matriz unitaria\n",
    "u, ru = my_get_circuit_unitary(circuit_CNOT)\n",
    "\n",
    "my_display_state_vector(s,2)\n",
    "\n",
    "matrix_CNOT = u\n",
    "array_to_latex(matrix_CNOT, prefix=\"\\\\text{CNOT = }\\n\")"
   ]
  },
  {
   "cell_type": "markdown",
   "id": "3bb2674c-d4bf-4654-ac68-b0ae5b3fc6c6",
   "metadata": {},
   "source": [
    "<a id='sec_Notebooks_Circ_multiqubit_1.2'></a>\n",
    "### Con el control arriba"
   ]
  },
  {
   "cell_type": "code",
   "execution_count": null,
   "id": "094b11db-a595-46af-a26f-fc76e1536cf1",
   "metadata": {},
   "outputs": [],
   "source": [
    "# Circuito\n",
    "circuit_CNOT_2 = QuantumCircuit(quantum_reg_2_qubits)#, classic_reg_2_bits)\n",
    "# Añadimos la CNOT\n",
    "circuit_CNOT_2.cx(0,1) #(control, target)\n",
    "circuit_CNOT_2.draw('mpl', style=\"iqp\")"
   ]
  },
  {
   "cell_type": "code",
   "execution_count": null,
   "id": "fea2563f-048f-4853-934b-ab67c5f7c9f4",
   "metadata": {},
   "outputs": [],
   "source": [
    "# Simulación de vector de estado\n",
    "s, c,rs = my_get_circuit_state(circuit_CNOT_2, shots=1)\n",
    "\n",
    "# Simulación de matriz unitaria\n",
    "u, ru = my_get_circuit_unitary(circuit_CNOT_2)\n",
    "\n",
    "my_display_state_vector(s,2)\n",
    "\n",
    "matrix_CNOT_2 = u\n",
    "array_to_latex(matrix_CNOT_2, prefix=\"\\\\text{CNOT = }\\n\")"
   ]
  },
  {
   "cell_type": "code",
   "execution_count": null,
   "id": "8793eb65-f835-4da2-b7ad-bcae18534e15",
   "metadata": {},
   "outputs": [],
   "source": [
    "# Registro cuántico\n",
    "quantum_reg_2_qubits = QuantumRegister(2, 'q') \n",
    "\n",
    "# Registro clásico, para medir\n",
    "classic_reg_2_bits = ClassicalRegister(2, 'c') "
   ]
  },
  {
   "cell_type": "code",
   "execution_count": null,
   "id": "397731ae-bdd6-4b01-93f0-74ab4759c68d",
   "metadata": {},
   "outputs": [],
   "source": [
    "circuit_CNOT_3 = QuantumCircuit(quantum_reg_2_qubits, classic_reg_2_bits)\n",
    "\n",
    "#################################\n",
    "# Jugar a comentar y descomentar:\n",
    "circuit_CNOT_3.x(0)\n",
    "#circuit_CNOT_3.x(1)\n",
    "#################################\n",
    "\n",
    "circuit_CNOT_3.cx(0,1)\n",
    "circuit_CNOT_3.measure(quantum_reg_2_qubits, classic_reg_2_bits)\n",
    "circuit_CNOT_3.draw('mpl', style=\"iqp\")"
   ]
  },
  {
   "cell_type": "code",
   "execution_count": null,
   "id": "313e9a82-989d-424c-be4f-2c77d38bf643",
   "metadata": {
    "scrolled": true
   },
   "outputs": [],
   "source": [
    "# Simulación de vector de estado\n",
    "# Utilizar múltiples shots ya que hay medidores\n",
    "s, c, rs = my_get_circuit_state(circuit_CNOT_3, 1000)\n",
    "\n",
    "# La simulación unitaria no tiene mucho sentido en\n",
    "# esta prueba, ya que hemos puesto medidores\n",
    "\n",
    "my_display_state_vector(s, inches=2)\n",
    "\n",
    "counts_CNOT_3 = c\n",
    "counts_CNOT_3"
   ]
  },
  {
   "cell_type": "markdown",
   "id": "a969508a-f0fe-4e37-9f79-8eb7fa383bd1",
   "metadata": {},
   "source": [
    "<a id='sec_Notebooks_Circ_multiqubit_2'></a>\n",
    "## Entrelazamiento: Crear estados entrelazados con la CNOT y la $H$   "
   ]
  },
  {
   "cell_type": "markdown",
   "id": "673900cd-7e67-4161-9152-4823b9336263",
   "metadata": {},
   "source": [
    "Cuando aplicamos una puerta $H$ sobre un qúbit ponemos este qúbit en una superposisción de $| 0 \\rangle$ y $| 1 \\rangle$:\n",
    "$$\n",
    "H | 0 \\rangle = \\frac{1}{2} \\left( | 0 \\rangle + | 1 \\rangle \\right) \n",
    "$$\n",
    "\n",
    "Si ahora pasamos este estado como **controlador** de una puerta CNOT, podemos generar un estado entrelazado. Veamos"
   ]
  },
  {
   "cell_type": "code",
   "execution_count": null,
   "id": "fd2b48b1-9506-475b-85f8-52078a565e58",
   "metadata": {},
   "outputs": [],
   "source": [
    "circuit_CNOT_H = QuantumCircuit(quantum_reg_2_qubits, classic_reg_2_bits)\n",
    "circuit_CNOT_H.h(0)\n",
    "circuit_CNOT_H.cx(0,1)\n",
    "circuit_CNOT_H.measure(quantum_reg_2_qubits, classic_reg_2_bits)\n",
    "circuit_CNOT_H.draw('mpl', style=\"iqp\")"
   ]
  },
  {
   "cell_type": "code",
   "execution_count": null,
   "id": "65cea041-cd89-43eb-a0e9-58d83fad5f44",
   "metadata": {},
   "outputs": [],
   "source": [
    "# Simulemos y veamos el histograma\n",
    "\n",
    "# Utilizar múltiples shots ya que hay medidores\n",
    "s, c, rs = my_get_circuit_state(circuit_CNOT_H, shots=5000)\n",
    "\n",
    "state_CNOT_H = s\n",
    "counts_CNOT_H = c\n",
    "\n",
    "display(counts_CNOT_H)\n",
    "display(plot_histogram(counts_CNOT_H, figsize=(2.5,2.5)))"
   ]
  },
  {
   "cell_type": "code",
   "execution_count": null,
   "id": "2a7d0f7c-d253-4400-b809-7a4f006e105d",
   "metadata": {},
   "outputs": [],
   "source": [
    "my_display_state_vector(state_CNOT_H, inches=2)"
   ]
  },
  {
   "cell_type": "markdown",
   "id": "ec937163-af63-416b-a8cf-0dc14cf33ac7",
   "metadata": {},
   "source": [
    "<div style=\"background-color:#c8e6c9\">\n",
    "<hr>\n",
    "<b>Ejercicio:</b>\n",
    "¿Por qué la función que muestra el estado,<tt> my_display_state_vector()</tt>, ha mostrado un estado que no es el entrelazado, para la salida del circuito entrelazador anterior?\n",
    "<hr>\n",
    "</div>"
   ]
  },
  {
   "cell_type": "markdown",
   "id": "82e4a8ed-22b5-4248-a36a-f07cdfacc04b",
   "metadata": {},
   "source": [
    "Podemos genera otros estados estados entrelazados diferentes:"
   ]
  },
  {
   "cell_type": "code",
   "execution_count": null,
   "id": "8601906f-b5a0-41eb-b251-60bcb2ff7750",
   "metadata": {},
   "outputs": [],
   "source": [
    "circuit_CNOT_HX = QuantumCircuit(quantum_reg_2_qubits, classic_reg_2_bits)\n",
    "circuit_CNOT_HX.h(0)\n",
    "circuit_CNOT_HX.x(1)\n",
    "circuit_CNOT_HX.cx(0,1)\n",
    "circuit_CNOT_HX.measure(quantum_reg_2_qubits, classic_reg_2_bits)\n",
    "circuit_CNOT_HX.draw('mpl', style=\"iqp\")"
   ]
  },
  {
   "cell_type": "code",
   "execution_count": null,
   "id": "506164f1-a6f7-41f2-bc91-466a52952366",
   "metadata": {
    "scrolled": true
   },
   "outputs": [],
   "source": [
    "# Simulemos y veamos el histograma\n",
    "\n",
    "# Simulación de vector de estado\n",
    "# Utilizar múltiples shots ya que hay medidores\n",
    "s, c, rs = my_get_circuit_state(circuit_CNOT_HX, shots=5000)\n",
    "\n",
    "counts_CNOT_HX = c\n",
    "display(counts_CNOT_HX)\n",
    "display(plot_histogram(counts_CNOT_HX, figsize=(2.5,2.5)))"
   ]
  },
  {
   "cell_type": "markdown",
   "id": "ca6eabb2-61b8-4247-9882-71e1f1c4dd96",
   "metadata": {},
   "source": [
    "<a id='sec_Notebooks_Circ_multiqubit_3'></a>\n",
    "## Puerta Swap   "
   ]
  },
  {
   "cell_type": "code",
   "execution_count": null,
   "id": "0d13f37b-2068-4788-9df9-07a2d1ccf391",
   "metadata": {},
   "outputs": [],
   "source": [
    "circuit_SWAP = QuantumCircuit(quantum_reg_2_qubits, classic_reg_2_bits)\n",
    "circuit_SWAP.x(1)\n",
    "circuit_SWAP.swap(0,1)\n",
    "circuit_SWAP.measure(quantum_reg_2_qubits, classic_reg_2_bits)\n",
    "circuit_SWAP.draw('mpl',style=\"iqp\")"
   ]
  },
  {
   "cell_type": "code",
   "execution_count": null,
   "id": "dd248d9f-9a0f-4556-adab-60f119ebe26d",
   "metadata": {
    "scrolled": true
   },
   "outputs": [],
   "source": [
    "# Simulemos y veamos el histograma\n",
    "\n",
    "# Simulación de vector de estado\n",
    "# Utilizar múltiples shots ya que hay medidores\n",
    "s, c, rs = my_get_circuit_state(circuit_SWAP, shots=5000)\n",
    "\n",
    "counts_SWAP = c\n",
    "display(counts_SWAP)\n",
    "display(plot_histogram(counts_SWAP, figsize=(2,2)))"
   ]
  },
  {
   "cell_type": "markdown",
   "id": "caa86eac-28ab-4175-81db-701569d911db",
   "metadata": {},
   "source": [
    "<a id='sec_Notebooks_Circ_multiqubit_4'></a>\n",
    "## Puerta CSWAP   "
   ]
  },
  {
   "cell_type": "markdown",
   "id": "a0e97f5f-7aea-40ef-a288-33be4ca975a1",
   "metadata": {},
   "source": [
    "En este ejemplo también vemos que no es necesario que haya los mismos qúbits en registro cuántico que en el clásico. Además, si queremos podemos medir solo unos cuantos qúbit, no todo"
   ]
  },
  {
   "cell_type": "code",
   "execution_count": null,
   "id": "35292d48-e221-4cdf-a872-9261da6cf608",
   "metadata": {},
   "outputs": [],
   "source": [
    "# Registro cuántico de 3 qubits\n",
    "quantum_reg_3_qubits = QuantumRegister(3, 'q') \n",
    "# Registro clásico de 2 qubits\n",
    "classic_reg_2_bits = ClassicalRegister(2, 'cl') "
   ]
  },
  {
   "cell_type": "code",
   "execution_count": null,
   "id": "f9b135a6-9709-4118-b092-bc3e6632eaa3",
   "metadata": {},
   "outputs": [],
   "source": [
    "circuit_CSWAP = QuantumCircuit(quantum_reg_3_qubits, classic_reg_2_bits)\n",
    "\n",
    "#################################\n",
    "# Jugar a comentar y descomentar:\n",
    "circuit_CSWAP.x(0)\n",
    "circuit_CSWAP.x(1)\n",
    "#################################\n",
    "\n",
    "circuit_CSWAP.cswap(0,1,2)\n",
    "circuit_CSWAP.measure(quantum_reg_3_qubits[1:], classic_reg_2_bits)\n",
    "circuit_CSWAP.draw('mpl',style=\"iqp\")"
   ]
  },
  {
   "cell_type": "code",
   "execution_count": null,
   "id": "11f9e86a-0449-4587-b371-b74d01a470ed",
   "metadata": {},
   "outputs": [],
   "source": [
    "# Simulemos y veamos el histograma\n",
    "\n",
    "# Simulación de vector de estado\n",
    "# Utilizar múltiples shots ya que hay medidores\n",
    "s, c, rs = my_get_circuit_state(circuit_CSWAP, shots=5000)\n",
    "\n",
    "counts_CSWAP = c\n",
    "display(counts_CSWAP)\n",
    "display(plot_histogram(counts_CSWAP, figsize=(2,2)))"
   ]
  },
  {
   "cell_type": "markdown",
   "id": "e12b6652-4b1f-468a-bb17-b569c049535b",
   "metadata": {},
   "source": [
    "<a id='sec_Notebooks_Circ_multiqubit_5'></a>\n",
    "## CCNOT o Toffoli   "
   ]
  },
  {
   "cell_type": "code",
   "execution_count": null,
   "id": "018eb82f-818b-40dd-9ecd-ec814ffce4a3",
   "metadata": {},
   "outputs": [],
   "source": [
    "# Registro cuántico de 3 qubits\n",
    "quantum_reg_3_qubits = QuantumRegister(3, 'q') \n",
    "# Registro clásico de 3 qubits\n",
    "classic_reg_3_bits = ClassicalRegister(3, 'cl') "
   ]
  },
  {
   "cell_type": "code",
   "execution_count": null,
   "id": "43edc427-3a2e-4924-8977-b5922671e293",
   "metadata": {},
   "outputs": [],
   "source": [
    "circuit_tof = QuantumCircuit(quantum_reg_3_qubits, classic_reg_3_bits)\n",
    "\n",
    "#################################\n",
    "# Jugar a comentar y descomentar una o varias lias:\n",
    "circuit_tof.x(0)\n",
    "circuit_tof.x(1)\n",
    "#################################\n",
    "\n",
    "circuit_tof.ccx(0,1,2) # Esto es la puerta de TOFFOLI\n",
    "circuit_tof.measure(quantum_reg_3_qubits, classic_reg_3_bits)\n",
    "circuit_tof.draw('mpl', style=\"iqp\")"
   ]
  },
  {
   "cell_type": "code",
   "execution_count": null,
   "id": "d7005369-5f01-48d9-abd9-eec0ca5687e9",
   "metadata": {},
   "outputs": [],
   "source": [
    "# Simulemos y veamos el histograma\n",
    "\n",
    "# Simulación de vector de estado\n",
    "# Utilizar múltiples shots ya que hay medidores\n",
    "s, c, rs = my_get_circuit_state(circuit_tof, shots=5000)\n",
    "\n",
    "counts_tof = c\n",
    "display(counts_tof)\n",
    "display(plot_histogram(counts_tof, figsize=(2,2)))"
   ]
  },
  {
   "cell_type": "markdown",
   "id": "41958d6e-846d-4dbe-98dc-737ea61a4b13",
   "metadata": {},
   "source": [
    "<a id='sec_Notebooks_Circ_multiqubit_6'></a>\n",
    "## Puerta MCX (multicontrolada X)  "
   ]
  },
  {
   "cell_type": "code",
   "execution_count": null,
   "id": "6eb0131d-e9e0-4f12-b455-abfe9f6303a8",
   "metadata": {},
   "outputs": [],
   "source": [
    "# Registros cuánticos\n",
    "control_reg = QuantumRegister(4, 'q') \n",
    "target_qubit = QuantumRegister(1, 'y')\n",
    "\n",
    "# Registro clásico\n",
    "classic_reg_1_bits = ClassicalRegister(1, 'cl') "
   ]
  },
  {
   "cell_type": "code",
   "execution_count": null,
   "id": "921fd1b6-978c-48b3-91b0-fa926636cbd0",
   "metadata": {},
   "outputs": [],
   "source": [
    "circuit_mcx = QuantumCircuit(control_reg, target_qubit, classic_reg_1_bits)\n",
    "\n",
    "#################################\n",
    "# Jugar a comentar y descomentar una o varias lias:\n",
    "# Inicializacion\n",
    "\n",
    "#circuit_mcx.x(control_reg[0])\n",
    "circuit_mcx.x(control_reg[1])\n",
    "#circuit_mcx.x(control_reg[2])\n",
    "circuit_mcx.x(control_reg[3])\n",
    "#################################\n",
    "\n",
    "circuit_mcx.barrier()\n",
    "\n",
    "#################################\n",
    "# Jugar a comentar y descomentar una o varias lias:\n",
    "# Respetar que en un mismo qubit debe de haber o \n",
    "# ninguna X o una antes y otra despues de la mcx\n",
    "\n",
    "circuit_mcx.x(control_reg[0])\n",
    "#circuit_mcx.x(control_reg[1])\n",
    "circuit_mcx.x(control_reg[2])\n",
    "#circuit_mcx.x(control_reg[3])\n",
    "#################################\n",
    "\n",
    "circuit_mcx.mcx(control_reg, target_qubit)\n",
    "\n",
    "#################################\n",
    "# Jugar a comentar y descomentar una o varias lias:\n",
    "# Respetar que en un mismo qubit debe de haber o \n",
    "# ninguna X o una antes y otra despues de la mcx\n",
    "\n",
    "circuit_mcx.x(control_reg[0])\n",
    "#circuit_mcx.x(control_reg[1])\n",
    "circuit_mcx.x(control_reg[2])\n",
    "#circuit_mcx.x(control_reg[3])\n",
    "#################################\n",
    "\n",
    "circuit_mcx.measure(target_qubit, classic_reg_1_bits)\n",
    "circuit_mcx.draw('mpl', style=\"iqp\")"
   ]
  },
  {
   "cell_type": "code",
   "execution_count": null,
   "id": "a9ee3f74-9f32-45a8-bffa-5a0b8137ed7a",
   "metadata": {},
   "outputs": [],
   "source": [
    "# Simulemos y veamos el histograma\n",
    "\n",
    "# Simulación de vector de estado\n",
    "# Utilizar múltiples shots ya que hay medidores\n",
    "s, c, rs = my_get_circuit_state(circuit_mcx, shots=5000)\n",
    "\n",
    "counts_mcx = c\n",
    "display(counts_mcx)\n",
    "display(plot_histogram(counts_mcx, figsize=(2,2)))"
   ]
  },
  {
   "cell_type": "code",
   "execution_count": null,
   "id": "bd5cec16-22da-4150-b19f-53eb7a18aad6",
   "metadata": {},
   "outputs": [],
   "source": [
    "# Vamos a calcular la matriz de este último circuito \n",
    "\n",
    "# Pero antes vamos a eliminar el medidor, para ello\n",
    "# haremos una copia del circuito y recorreremos todas\n",
    "# sus instrucciones, haciendo una lista de aquellas que\n",
    "# tengan por nombre 'measure'\n",
    "circuit_mcx_nomeasure = circuit_mcx.copy()\n",
    "iidx = 0 # instruction index\n",
    "lm = []\n",
    "for g in circuit_mcx_nomeasure.data:\n",
    "    if g.operation.name == 'measure':\n",
    "        lm.append(iidx)\n",
    "    iidx += 1\n",
    "\n",
    "# Esta es la lista de medidores, vamos a quitarlos\n",
    "# del circuito con QuantumCircuit.pop()\n",
    "for iidx in lm:\n",
    "    circuit_mcx_nomeasure.data.pop(iidx)\n",
    "\n",
    "# El circuito resultante no debe tener medidores\n",
    "display(circuit_mcx_nomeasure.draw('mpl', style=\"iqp\"))\n",
    "\n",
    "# Veamos su matriz unitaria\n",
    "u, r = my_get_circuit_unitary(circuit_mcx_nomeasure)\n",
    "\n",
    "matrix_circuit_mcx = u\n",
    "\n",
    "# Al mostrar la matriz nos saldrá truncada porque es\n",
    "# muy grande\n",
    "display(array_to_latex(matrix_circuit_mcx, prefix=\"\\\\text{MCX_circuit = }\\n\"))\n",
    "\n",
    "# Como esta matriz es muy grande, vamos a representar\n",
    "# como imagen aquellso elementos con valores no nulos\n",
    "plt.figure(figsize=(3,3))\n",
    "plt.imshow(np.abs(matrix_circuit_mcx.data))\n",
    "plt.show()"
   ]
  },
  {
   "cell_type": "code",
   "execution_count": null,
   "id": "3aaf7268-89d0-4cbd-93d3-2d661fc12001",
   "metadata": {},
   "outputs": [],
   "source": [
    "import qiskit\n",
    "from qiskit_aer import AerSimulator\n",
    "import qiskit.tools.jupyter\n",
    "%qiskit_version_table"
   ]
  },
  {
   "cell_type": "code",
   "execution_count": null,
   "id": "4fc33686-d411-4ee4-9fc4-251435fec6c7",
   "metadata": {},
   "outputs": [],
   "source": []
  }
 ],
 "metadata": {
  "kernelspec": {
   "display_name": "Python 3 (ipykernel)",
   "language": "python",
   "name": "python3"
  },
  "language_info": {
   "codemirror_mode": {
    "name": "ipython",
    "version": 3
   },
   "file_extension": ".py",
   "mimetype": "text/x-python",
   "name": "python",
   "nbconvert_exporter": "python",
   "pygments_lexer": "ipython3",
   "version": "3.12.5"
  }
 },
 "nbformat": 4,
 "nbformat_minor": 5
}
