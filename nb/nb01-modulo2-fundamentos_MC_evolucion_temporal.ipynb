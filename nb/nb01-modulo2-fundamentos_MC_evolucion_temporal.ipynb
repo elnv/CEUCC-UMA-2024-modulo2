{
 "cells": [
  {
   "cell_type": "code",
   "execution_count": null,
   "id": "cdfc07da-b773-4048-a6b8-1258f41edd85",
   "metadata": {},
   "outputs": [],
   "source": [
    "# No olvidar que en \"google colab\" hay que instalar qiskit\n",
    "\n",
    "########################\n",
    "# Instala versión 0.45.2\n",
    "########################\n",
    "# Importante, poner qiskit-aer en la misma linea de \"pip install\" para que coja la versión adecuada\n",
    "try:\n",
    "    import google.colab\n",
    "    print(\"In colab, let's install things...\")\n",
    "    #\n",
    "    !pip install qiskit[visualization]==0.45.2 qiskit-aer qiskit-ibm-runtime\n",
    "except ImportError:\n",
    "    print(\"NOT in colab\")"
   ]
  },
  {
   "cell_type": "code",
   "execution_count": null,
   "id": "3aaf7268-89d0-4cbd-93d3-2d661fc12001",
   "metadata": {},
   "outputs": [],
   "source": [
    "import qiskit\n",
    "from qiskit_aer import AerSimulator\n",
    "import qiskit.tools.jupyter\n",
    "%qiskit_version_table\n",
    "print('Qiskit version', qiskit.__version__)\n",
    "import numpy\n",
    "import scipy\n",
    "print(\"Numpy version\", numpy.__version__)\n",
    "print(\"Scipy version\", scipy.__version__)"
   ]
  },
  {
   "cell_type": "code",
   "execution_count": null,
   "id": "0e7883d6-0e8f-4f24-af8f-228c4c79e46f",
   "metadata": {},
   "outputs": [],
   "source": [
    "from IPython.display import display, Latex, Markdown\n",
    "from matplotlib import pyplot as plt\n",
    "import scipy.linalg as la\n",
    "import numpy as np"
   ]
  },
  {
   "cell_type": "markdown",
   "id": "df64846a-2b4e-47ab-bddd-f2c8533aa19f",
   "metadata": {
    "editable": true,
    "slideshow": {
     "slide_type": ""
    },
    "tags": []
   },
   "source": [
    "<a id='sec_Notebooks_Fundamentos'></a>\n",
    "# Fundamentos de Mecánica Cuántica\n",
    "$ \\newcommand{\\bra}[1]{\\langle #1|} $\n",
    "$ \\newcommand{\\ket}[1]{|#1\\rangle} $\n",
    "$ \\newcommand{\\braket}[2]{\\langle #1|#2\\rangle} $\n",
    "$ \\newcommand{\\ketbra}[2]{| #1\\rangle \\langle #2|} $\n",
    "$ \\newcommand{\\tr}{{\\rm Tr}\\,} $\n",
    "$ \\newcommand{\\Tr}{{\\rm Tr}\\,} $\n",
    "$ \\newcommand{\\i}{{\\color{blue} i}} $ \n",
    "$ \\newcommand{\\Hil}{{\\cal H}} $\n",
    "$ \\newcommand{\\V}{{\\cal V}} $"
   ]
  },
  {
   "cell_type": "markdown",
   "id": "5364e6eb-56cf-4df9-a8d0-d6d008219429",
   "metadata": {},
   "source": [
    "## Evolución temporal de un sistema de dimensión 2"
   ]
  },
  {
   "cell_type": "markdown",
   "id": "a0465d33-5bb9-4f35-a22e-8bdc33df0bf4",
   "metadata": {},
   "source": [
    "<!-- div class=\"alert alert-block alert-success\" -->\n",
    "<div>\n",
    "La evolución de la ecuación de estado a lo largo del tiempo dado un hamiltoniano $H$ independiente del tiempo viene dada por\n",
    "\n",
    "$\n",
    "\\boxed{\\psi(t)= e^{{\\Large \\frac{-i}{\\hbar}} t H} |\\psi_0\\rangle \\text{, donde para t=0:} \\,\\, |\\psi_0\\rangle=\\psi(0)}\n",
    "$\n",
    "\n",
    "Escribe una función <i>psi(t,psi_0_ket,H)</i> que reciba como argumentos el array <i>psi0</i> de componentes de $|{\\psi(0)}\\rangle$, una matriz hermítica <i>H</i>, y un valor de <i>t</i>, y devuelva un vector columna correspondiente a $|{\\psi(t)}\\rangle$. Considera $\\hbar=1$.\n",
    "\n",
    "</div>"
   ]
  },
  {
   "cell_type": "code",
   "execution_count": null,
   "id": "81818dd1-424e-4b26-871a-5e8f5a152456",
   "metadata": {},
   "outputs": [],
   "source": [
    "# Nuestra constante de Plank \"h barra = h/(2*pi)\"\n",
    "hbar = 1\n",
    "\n",
    "def expH(t, H):\n",
    "    # Retornamos la exponencial de la ecuación de ondas\n",
    "    #    |\\psi(t)> = e^{-i t H/hbar} |\\psi(0)> = U |\\psi(0) >\n",
    "    # o sea,\n",
    "    #    U = e^{-i t H/hbar}\n",
    "    #\n",
    "    U = la.expm(-1j*t*H/hbar);\n",
    "    return U\n",
    "\n",
    "def psi(t, psi_0_ket, H):\n",
    "    # Retornamos la función de ondas\n",
    "    #    |\\psi(t)> = e^{-i t H/hbar} |\\psi(0)> = U |\\psi(0) >\n",
    "    #\n",
    "    lpsi = len(psi_0_ket)\n",
    "    lH = H.shape[0]\n",
    "    assert lpsi == lH # Chequear dimensión\n",
    "\n",
    "    # |\\psi(t)> = e^{-i t H} |\\psi(0) >\n",
    "    # U = e^(- 1j*t*H);\n",
    "    U = expH(t, H)\n",
    "    psi_t_ket = U @ psi_0_ket\n",
    "   \n",
    "    return psi_t_ket"
   ]
  },
  {
   "cell_type": "markdown",
   "id": "3d86a3e6-ce48-4efe-ac88-cb7b6f9b6a90",
   "metadata": {},
   "source": [
    "Ahora:\n",
    "- Partiendo del instante 0 y para un intervalo de tiempo razonable, muestrea los valores de la probabilidad de $p_0$, $p_1$ de medir $|{0}\\rangle$ o $\\ket{1}$ respectivamente, para posteriormente graficarlos\n",
    "- Así mismo muestrea también el valor promedo del Hamiltoniano en cada instante $\\langle H\\rangle_{\\Psi(t)}$\n",
    "- Se construirán 4 listas, una con valores equiespaciados del intervalo de tiempo elegido; otras dos con los valores respectivamente, de probabilidad de medir 0 o 1 en dichos intantes de tiempo; y otra más con el valor esperado del Hamiltoniano\n",
    "\n",
    "Se considerará que:\n",
    "- El Hamiltoniano es una matrix aleatoria hermítica de dimensiones 2x2\n",
    "- El valor inicial del estado del sistema, para $t=0$, es: $|\\Psi(t=0)\\rangle=|\\Psi_0\\rangle=|{0}\\rangle$"
   ]
  },
  {
   "cell_type": "code",
   "execution_count": null,
   "id": "ac2e8098-f0dd-4ef4-bc7f-a15cc7f04c0a",
   "metadata": {},
   "outputs": [],
   "source": [
    "# Vectores |0> y |1> de la base computacional por si hicieran falta\n",
    "zero_ket = np.array([[1], [0]])\n",
    "zero_bra = zero_ket.transpose() # alternativa: zero_bra = zero_ket.reshape((1,2))\n",
    "one_ket = np.array([[0], [1]])\n",
    "one_bra = one_ket.transpose()\n",
    "\n",
    "# Construir un Hamiltoniano aleatorio (matriz hermitiana)\n",
    "sigma = 5  # Normal random generation: N(mu,sigma) = sigma*N(0,1)+mu\n",
    "A = np.round(sigma*np.random.randn(2,2) + sigma*np.random.randn(2,2)*1j, 2)\n",
    "H = (A + A.transpose().conjugate())/2\n",
    "print('H=', H)\n",
    "\n",
    "# Fijamos estado inicial\n",
    "psi0 = zero_ket"
   ]
  },
  {
   "cell_type": "code",
   "execution_count": null,
   "id": "d5972141-9387-40cd-a15f-8ecec08fdf50",
   "metadata": {},
   "outputs": [],
   "source": [
    "# Vamos a estimar la frecuencia asociado al Hamiltoniano para\n",
    "# que luego las gráficas tengan un mejor aspecto\n",
    "#\n",
    "# Estimación de la frecuencia asociada al hamiltoniano, como\n",
    "# e^(jwt)=cos(wt)+jsin(wt) usamos el máximo de los elementos\n",
    "freq = np.max(np.abs(H))/2/np.pi/hbar\n",
    "T=1/freq\n",
    "print(\"Estimación de frecuencia={0:.2f}, w=2*pi*f={1:.2f}, T={2:.2f}\".format(freq, 2*np.pi*freq, T))"
   ]
  },
  {
   "cell_type": "code",
   "execution_count": null,
   "id": "b7c0369f-03c3-4c3d-a27e-e4c67c2eff50",
   "metadata": {},
   "outputs": [],
   "source": [
    "# Elegimos aproximadamente N periodos, con samples muestras por periodo\n",
    "N = 4; samples = 128\n",
    "t = np.linspace(0, T*N, samples*N)  # time axis\n",
    "print(\"#samples=\"+str(len(t)))"
   ]
  },
  {
   "cell_type": "code",
   "execution_count": null,
   "id": "da611723-0b03-43a0-b74c-874ab09b7561",
   "metadata": {},
   "outputs": [],
   "source": [
    "# Muestreo de las probabilidades en los instantes elegidos\n",
    "# en la lista t\n",
    "\n",
    "# Valores de |Psi(t)>\n",
    "psi_t_ket = [psi(xt, psi0, H) for xt in t] # |psi(t)>\n",
    "# Valores de <Psi(t)|\n",
    "psi_t_bra = [ket.conjugate().transpose() for ket in psi_t_ket]  # <psi(t)|\n",
    "\n",
    "# Probabilidades (lo quiero en formato lista)\n",
    "psi_t_prob0 = [np.abs(psi(xt, psi0, H))[0][0]**2 for xt in t] # |a0|^2\n",
    "psi_t_prob1 = [np.abs(psi(xt, psi0, H))[1][0]**2 for xt in t] # |a1|^2\n",
    " \n",
    "# Valor esperado de H en función del tiempo (esperanza matemática):\n",
    "#   <H>(t) = <psi(t) | H | psi(t)>\n",
    "psi_t_bra_H_ket = [ np.real(psi_t_bra[idx] @ H @ psi_t_ket[idx])[0][0].item() for idx in range(0,len(t)) ]"
   ]
  },
  {
   "cell_type": "code",
   "execution_count": null,
   "id": "3be7fa87-a5df-4ec3-abcd-37c88c667a2e",
   "metadata": {},
   "outputs": [],
   "source": [
    "# Vamos a graficar las probabilidades\n",
    "plt.figure(figsize=(4, 2))\n",
    "plt.plot(t, psi_t_prob0, label='p(0)')\n",
    "plt.plot(t, psi_t_prob1, label='p(1)')\n",
    "plt.title('Evolución de la función de onda')\n",
    "plt.xlabel('t')\n",
    "plt.grid(True, which='both')\n",
    "plt.legend(bbox_to_anchor=(1, 0.5))\n",
    "plt.show()\n",
    "#display(plt)"
   ]
  },
  {
   "cell_type": "code",
   "execution_count": null,
   "id": "e70ed8ed-b5d1-4147-842b-37b3b44788ac",
   "metadata": {},
   "outputs": [],
   "source": [
    "# Grafiquemos el valor medio\n",
    "plt.figure(figsize=(4, 2))\n",
    "plt.plot(t, psi_t_bra_H_ket, label=r'$\\langle H\\rangle=\\langle \\psi|H|\\psi\\rangle$')\n",
    "plt.title(r'Valor esperado de H ($\\langle H\\rangle_{\\psi(t)}$)')\n",
    "plt.xlabel('t')\n",
    "plt.ylabel('<H>')\n",
    "plt.grid(True, which='both')\n",
    "plt.legend(bbox_to_anchor=(1, 0.5))\n",
    "plt.show()\n",
    "#display(plt)"
   ]
  },
  {
   "cell_type": "markdown",
   "id": "10222538-bdf0-494d-b4fc-c03d31c376e1",
   "metadata": {},
   "source": [
    "<!-- div class=\"alert alert-block alert-success\" -->\n",
    "<div style=\"background-color:#c8e6c9\">\n",
    "<hr>    \n",
    "<b>Ejercicio:</b>\n",
    "\n",
    "Repite las gráficas  de probabilidad considerando la siguiente definición alternativa de las probabilidades (cuadrado de la amplitud de la proyección sobre los elementos de la base computacional):\n",
    "- $p_0 = | \\langle 0 | \\Psi(t) \\rangle|^2$\n",
    "- $p_1 = | \\langle 1 | \\Psi(t) \\rangle|^2$\n",
    "\n",
    "Comprueba visualmente que se obtiene las mismas gráficas\n",
    "<hr>\n",
    "</div>"
   ]
  },
  {
   "cell_type": "markdown",
   "id": "f9a24eaa-37a3-4d2b-971d-a3a8713d928a",
   "metadata": {},
   "source": [
    "Analicemos la relación entre el valor medio $\\langle H\\rangle_\\Psi $ y la descomposición espectral del Hamiltoniano $H$"
   ]
  },
  {
   "cell_type": "code",
   "execution_count": null,
   "id": "e5fade2f-8c74-427f-84b6-1b2602be4a81",
   "metadata": {},
   "outputs": [],
   "source": [
    "# Autovalores y autovectores de H\n",
    "el,ev = la.eig(H)\n",
    "el = np.real(el) # quitar parte imaginaria ya que DEBE ser despreciable (H hermitiana),\n",
    "                 # puede aparecer una componente residual por errores numéricos\n",
    "eigval0 = el[0]\n",
    "eigval1 = el[1]\n",
    "elmax = np.max(el) \n",
    "elmin = np.min(el)\n",
    "eigvec0 = ev[:,0].reshape(2,1) #ndarray\n",
    "eigvec1 = ev[:,1].reshape(2,1)"
   ]
  },
  {
   "cell_type": "code",
   "execution_count": null,
   "id": "fcde893d-14d2-41b9-9c04-a5ae728dd453",
   "metadata": {},
   "outputs": [],
   "source": [
    "# Grafiquemos el valor medio con los autovalores\n",
    "Havg = psi_t_bra_H_ket[0]   # El valor medio es constante, tomemos el primero\n",
    "plt.figure(figsize=(4, 2))\n",
    "plt.plot(t, psi_t_bra_H_ket, label=r'$\\langle H\\rangle=\\langle \\psi|H|\\psi\\rangle$')\n",
    "plt.plot(t, elmin*np.ones(t.shape), linestyle=':' , label=r'$\\lambda_{min}$')\n",
    "plt.plot(t, elmax*np.ones(t.shape), linestyle=':' , label=r'$\\lambda_{max}$')\n",
    "plt.title(r'Valor esperado de H ($\\langle H\\rangle_{\\psi(t)}$=%.3f)'%Havg)\n",
    "plt.xlabel('t')\n",
    "plt.ylabel('<H>')\n",
    "plt.ylim(-np.abs(elmin)-1, np.abs(elmax)+1)\n",
    "plt.grid(True, which='both')\n",
    "plt.legend(bbox_to_anchor=(1, 0.5))\n",
    "plt.show()"
   ]
  },
  {
   "cell_type": "markdown",
   "id": "48525e9d-fb1b-4fcf-88d2-6434b22f31ec",
   "metadata": {},
   "source": [
    "Óbservese que el valor esperado de H debe estár comprendido entre sus valores propios que son reales. \n",
    "\n",
    "Se puede ver esto numéricamente \n",
    "$$\\langle H \\rangle \n",
    "   = \\sum_k \\lambda_k  \\text{prob}\\,(\\lambda_k) \n",
    "   =   \\lambda_0 \\,\\text{prob}(\\lambda_0)  +  \\lambda_1 \\,\\text{prob}(\\lambda_1)\n",
    "$$\n",
    "\n",
    "siendo $\\text{prob}({\\lambda_i}) = | \\langle\\lambda_i| \\Psi_0\\rangle|^2$, es decir, **la probabilidad de obtener** una medición igual a **un autovalor** es el **cuadrado de la amplitud de la proyección** del estado en un instante **sobre el autovector** asociado a dicho valor propio. \n",
    "\n",
    "Comprobémoslo para un instante de tiempo en particular, por ejemplo $t=0$ (¡debe de cumplirse para cualquier instante!)"
   ]
  },
  {
   "cell_type": "code",
   "execution_count": null,
   "id": "cf4f0b09-2c23-4668-86b0-3563759650aa",
   "metadata": {},
   "outputs": [],
   "source": [
    "# Probabilidades del estado psi0=|0> sobre los autovectores,\n",
    "# |<eigenvec_lambda0|0>|^2 -> matriz 1x1 -> extraer escalar\n",
    "psi_t_prob_lambda0 = np.abs(eigvec0.transpose() @ psi0)[0][0].item()**2\n",
    "# |<eigenvec_lambda1|0>|^2 -> matriz 1x1 -> extraer escalar\n",
    "psi_t_prob_lambda1 = np.abs(eigvec1.transpose() @ psi0)[0][0].item()**2\n",
    "\n",
    "# Media usando estas probabilidades sobre los autovalores: sum(lambda_i * |lambda_i>):\n",
    "eigenvalue_avg = psi_t_prob_lambda0 * eigval0 + psi_t_prob_lambda1 * eigval1\n",
    "\n",
    "display(Markdown(r\"$\\displaystyle\\sum_{i=0}^{1}{\\lambda_i *p(\\lambda_i)} =$\" \n",
    "              + \"%.3f\"%eigenvalue_avg\n",
    "              + r\" (debe coindidir con $\\langle H\\rangle$)\"))\n"
   ]
  },
  {
   "cell_type": "markdown",
   "id": "c1b8554d-586d-4028-b2eb-f50fe858de9c",
   "metadata": {
    "jp-MarkdownHeadingCollapsed": true
   },
   "source": [
    "<div style=\"background-color:#c8e6c9\">\n",
    "<hr>\n",
    "<b>Ejercicio:</b>\n",
    "    \n",
    "Modifica el código anterior, moviendo el cálculo de los autovectores de $H$, justo después de generar $H$ aleatoriamente, para poderlos usar como valor inicial del sistema.\n",
    "\n",
    "Y en lugar de tomar como valor inicial $|0\\rangle$, toma como valor inicial de $\\Psi$ para $t=0$ uno de los autovectores, es dedir  $|\\Psi_0\\rangle= |\\lambda_i\\rangle$.\n",
    "\n",
    "Observa las gráficas que se obtienen en este caso cuando el estado inicial es un autoestado. ¿Es lo que se espera? ¿Qué significado tiene?\n",
    "<hr>\n",
    "</div>"
   ]
  },
  {
   "cell_type": "markdown",
   "id": "401ccb86-fa31-4069-b1b2-0a74e9745629",
   "metadata": {
    "jp-MarkdownHeadingCollapsed": true
   },
   "source": [
    "<!-- div class=\"alert alert-block alert-success\" -->\n",
    "<div style=\"background-color:#c8e6c9\">    \n",
    "<hr>\n",
    "<b>Ejercicio:</b>\n",
    "\n",
    "<b> <font size=\"+1\"><span style=\"color:red\">[OPCIONAL, PARA OPTAR A NOTA] </span></font></b>\n",
    "\n",
    "Para el caso del que partíamos, con $|\\Psi_0\\rangle= |0\\rangle$, utiliza la FFT para determinar la frecuencia de la onda de probalididades, por ejemplo la de la probabilidad de medir $|0\\rangle$.\n",
    "\n",
    "Sugerencia: elimina la componente continua de la señal de probabilidad, esto es su valor medio, antes de hacer la FFT ya que lo que nos interesa es el primer armónico.\n",
    "\n",
    "Grafica dicha FFT, y comprueba visualmente que el primer armónico es correcto. \n",
    "\n",
    "**Encuentra la relación entre dicha frecuencia, los autovalores de H y la constante $\\hbar$**. Comprueba que numéricamente es correcta dicha relación repitiendo el experimento para múltiples matrices $H$ aleatorias.\n",
    "(Puedes además repetir las pruebas con diferentes valores de $\\hbar$).\n",
    "\n",
    "**¿Qué ley física guarda gran paralelismo con esta relación?**\n",
    "<hr>\n",
    "</div>"
   ]
  },
  {
   "cell_type": "code",
   "execution_count": null,
   "id": "b477a8dc-eea5-4398-848e-e9d371d06e4b",
   "metadata": {},
   "outputs": [],
   "source": []
  }
 ],
 "metadata": {
  "kernelspec": {
   "display_name": "Python 3 (ipykernel)",
   "language": "python",
   "name": "python3"
  },
  "language_info": {
   "codemirror_mode": {
    "name": "ipython",
    "version": 3
   },
   "file_extension": ".py",
   "mimetype": "text/x-python",
   "name": "python",
   "nbconvert_exporter": "python",
   "pygments_lexer": "ipython3",
   "version": "3.12.5"
  }
 },
 "nbformat": 4,
 "nbformat_minor": 5
}
