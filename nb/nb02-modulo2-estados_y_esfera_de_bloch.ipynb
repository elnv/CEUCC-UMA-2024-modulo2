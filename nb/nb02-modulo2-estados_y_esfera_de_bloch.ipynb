{
 "cells": [
  {
   "cell_type": "code",
   "execution_count": null,
   "id": "cdfc07da-b773-4048-a6b8-1258f41edd85",
   "metadata": {},
   "outputs": [],
   "source": [
    "# No olvidar que en \"google colab\" hay que instalar qiskit\n",
    "\n",
    "########################\n",
    "# Instala versión 0.45.2\n",
    "########################\n",
    "# Importante, poner qiskit-aer en la misma linea de \"pip install\" para que coja la versión adecuada\n",
    "try:\n",
    "    import google.colab\n",
    "    print(\"In colab, let's install things...\")\n",
    "    #\n",
    "    !pip install qiskit[visualization]==0.45.2 qiskit-aer qiskit-ibm-runtime\n",
    "except ImportError:\n",
    "    print(\"NOT in colab\")"
   ]
  },
  {
   "cell_type": "code",
   "execution_count": null,
   "id": "3aaf7268-89d0-4cbd-93d3-2d661fc12001",
   "metadata": {},
   "outputs": [],
   "source": [
    "import qiskit\n",
    "from qiskit_aer import AerSimulator\n",
    "import qiskit.tools.jupyter\n",
    "%qiskit_version_table\n",
    "print('Qiskit version', qiskit.__version__)\n",
    "import numpy\n",
    "import scipy\n",
    "print(\"Numpy version\", numpy.__version__)\n",
    "print(\"Scipy version\", scipy.__version__)"
   ]
  },
  {
   "cell_type": "code",
   "execution_count": null,
   "id": "0e7883d6-0e8f-4f24-af8f-228c4c79e46f",
   "metadata": {},
   "outputs": [],
   "source": [
    "from IPython.display import display, Latex, Markdown\n",
    "from matplotlib import pyplot as plt\n",
    "import scipy.linalg as la\n",
    "import numpy as np"
   ]
  },
  {
   "cell_type": "markdown",
   "id": "6471a14c-022f-45fe-a4be-241c664fdfc0",
   "metadata": {},
   "source": [
    "<a id='sec_Notebooks_Vectores_y_Bloch'></a>\n",
    "# Vectores de estado y la esfera de Bloch"
   ]
  },
  {
   "cell_type": "code",
   "execution_count": null,
   "id": "83412cb3-3dac-4059-b2c1-ab9eb7e07fd4",
   "metadata": {},
   "outputs": [],
   "source": [
    "import numpy as np\n",
    "from qiskit.quantum_info import Statevector, schmidt_decomposition\n",
    "from qiskit.visualization import plot_bloch_multivector, array_to_latex, plot_state_qsphere"
   ]
  },
  {
   "cell_type": "markdown",
   "id": "1e39d75d-1194-4ef8-8bd9-79f17be9634f",
   "metadata": {},
   "source": [
    "Para visualizar vectores en la esfera de Bloch tenemos varias opciones. Una de ellas es un [visualizador online en Java:](https://javafxpert.github.io/grok-bloch/?fbclid=IwAR1lWfCug1lfTXxXenaJxnsdJh2g3he6lBJmjnjL_Jus0gOHR9u3UuaT7qs).\n",
    "\n",
    "Aquí vamos a centrarnos en la clase <a href=https://qiskit.org/documentation/stubs/qiskit.quantum_info.Statevector.html>statevector</a> de *qiskit* que cuenta con un *visualizador* de la esfera de Bloch. La clase  acepta una lista de dos números complejos como componentes de un vector.  \n"
   ]
  },
  {
   "cell_type": "markdown",
   "id": "1eeb954a-4ab2-4c4d-835c-4340a2260676",
   "metadata": {},
   "source": [
    "<a id='sec_Notebooks_Vectores_y_Bloch_1'></a>\n",
    "## La clase Statevactor de Qiskit "
   ]
  },
  {
   "cell_type": "code",
   "execution_count": null,
   "id": "953d1b16-ef4c-4bbc-95ec-bba89f215e52",
   "metadata": {
    "scrolled": true
   },
   "outputs": [],
   "source": [
    "# Ejemplo de vector de estado |+> \n",
    "state_plus =[1/np.sqrt(2),1/np.sqrt(2)]\n",
    "\n",
    "statevector_plus = Statevector(state_plus)"
   ]
  },
  {
   "cell_type": "code",
   "execution_count": null,
   "id": "3a6c2296-be93-4150-ab1f-13870fe38b20",
   "metadata": {},
   "outputs": [],
   "source": [
    "statevector_plus.draw('latex')"
   ]
  },
  {
   "cell_type": "code",
   "execution_count": null,
   "id": "16ad2450-83f6-478f-8ef3-cb5690ab1335",
   "metadata": {},
   "outputs": [],
   "source": [
    "statevector_plus.draw('latex_source')"
   ]
  },
  {
   "cell_type": "code",
   "execution_count": null,
   "id": "f783aab1-fad4-46ac-9fe1-08b9957d58e7",
   "metadata": {},
   "outputs": [],
   "source": [
    "# Para escribirlo en terminal sin ser en un Jupiter\n",
    "print(statevector_plus.draw('text'))  "
   ]
  },
  {
   "cell_type": "code",
   "execution_count": null,
   "id": "7ec6f36d-7dcd-46a9-8c8c-b345af3a76b8",
   "metadata": {},
   "outputs": [],
   "source": [
    "statevector_plus.draw('Bloch')"
   ]
  },
  {
   "cell_type": "markdown",
   "id": "283a6c0a-c9c8-41db-b146-c18d5b3762e6",
   "metadata": {},
   "source": [
    "El método `statevector_plus.draw('Bloch')` nos devuelve una figura de Matplotlib, así que podemos usar métodos como `savefig()`"
   ]
  },
  {
   "cell_type": "code",
   "execution_count": null,
   "id": "1562af9b-5b20-4e98-83ac-43050603dd24",
   "metadata": {},
   "outputs": [],
   "source": [
    "!pwd\n",
    "statevector_plus.draw('Bloch').savefig(\"/tmp/Fig_Bloch_plus_state\")"
   ]
  },
  {
   "cell_type": "markdown",
   "id": "fd58b9f0-6335-4747-8a43-d9a9f5fc1d9f",
   "metadata": {},
   "source": [
    "<a id='sec_Notebooks_Vectores_y_Bloch_2'></a>\n",
    "## Normalización del vector"
   ]
  },
  {
   "cell_type": "markdown",
   "id": "6ddc64f9-f53a-4ab5-b5e0-4e6b0868af10",
   "metadata": {},
   "source": [
    "Esta rutina no verifica si el vector está normalizado, como podemos ver en el siguiente ejemplo."
   ]
  },
  {
   "cell_type": "code",
   "execution_count": null,
   "id": "1e39f700-38fa-4035-9caf-7eee15e20330",
   "metadata": {},
   "outputs": [],
   "source": [
    "state_2 =[5/np.sqrt(2),1/np.sqrt(2)]\n",
    "\n",
    "statevector_2 = Statevector(state_2)\n",
    "statevector_2.draw('latex')"
   ]
  },
  {
   "cell_type": "code",
   "execution_count": null,
   "id": "a73a4ee8-6cf2-4059-a68d-46d3de92f78d",
   "metadata": {},
   "outputs": [],
   "source": [
    "statevector_2.draw('bloch')"
   ]
  },
  {
   "cell_type": "code",
   "execution_count": null,
   "id": "0cfbf578-e655-4ed4-9d6e-e2bb67b314af",
   "metadata": {},
   "outputs": [],
   "source": [
    "# Podemos comprobar si el vector está o no normalizado:\n",
    "if statevector_2.is_valid():\n",
    "    print(\"Este vector YA está normalizado\")\n",
    "else:\n",
    "    print(\"Este vector NO está normalizado\")\n",
    "    \n",
    "# Para normalizarlo dividimos por su norma\n",
    "statevector_2_norm = statevector_2 / la.norm(statevector_2)\n",
    "\n",
    "if statevector_2_norm.is_valid():\n",
    "    print(\"El nuevo vector YA está normalizado\")\n",
    "else:\n",
    "    print(\"El nuevo vector NO está normalizado\")\n",
    "\n",
    "# Vamos a comprobarlo visualmente\n",
    "bloch = statevector_2_norm.draw('bloch')\n",
    "bloch.set_size_inches(2.5, 2.5, forward=True) # Por si queremos escalar la esfers\n",
    "display(bloch)"
   ]
  },
  {
   "cell_type": "code",
   "execution_count": null,
   "id": "b3d0e310-a956-4a3d-a006-109c58e70d37",
   "metadata": {},
   "outputs": [],
   "source": [
    "# Observa que podemos acceder a los datos \"crudos\" del vector\n",
    "display(statevector_2_norm.data)\n",
    "\n",
    "# Observa que el objeto \"raw\" es un vector numpy\n",
    "# esto es dimensionalidad=1\n",
    "#\n",
    "# Si quisiéramos tener el vector en formato ket hay\n",
    "# que redimensionar a dimensionalidad=2, shape=nx1\n",
    "#\n",
    "display(statevector_2_norm.data.reshape(2,1))"
   ]
  },
  {
   "cell_type": "markdown",
   "id": "28671bc7-6294-43b1-9c59-af07886266f2",
   "metadata": {},
   "source": [
    "<a id='sec_Notebooks_Vectores_y_Bloch_3'></a>\n",
    "## Estado a partir de los ángulos "
   ]
  },
  {
   "cell_type": "markdown",
   "id": "905d3de6-e890-42d5-b42d-61a52a1d55a3",
   "metadata": {},
   "source": [
    "Una forma de construir un estado normalizado es usando la parametrización \n",
    "\n",
    "$$\n",
    "|u\\rangle = \\cos{\\frac{\\theta}{2}}\\, |0\\rangle + e^{i\\phi}\\sin{\\frac{\\theta}{2}}\\,|1\\rangle \n",
    "$$\n",
    "\n",
    "Hagamos una función que nos de el estado a partir de los ángulos $\\theta$ y $\\phi$"
   ]
  },
  {
   "cell_type": "code",
   "execution_count": null,
   "id": "7d14329f-3689-41d2-9e36-d70734679efe",
   "metadata": {},
   "outputs": [],
   "source": [
    "def state_from_angles(theta, phi):\n",
    "    u0 = np.cos(theta/2)\n",
    "    u1 = (np.exp(1j*phi))*np.sin(theta/2)\n",
    "\n",
    "    uket = [u0,u1]\n",
    "    return Statevector(uket)\n",
    "statevector_y_plus = state_from_angles(np.pi/2, np.pi/2)\n",
    "statevector_y_plus.draw('Latex')"
   ]
  },
  {
   "cell_type": "code",
   "execution_count": null,
   "id": "e1ed9189-4166-45cd-aa35-330f8f38c4f6",
   "metadata": {},
   "outputs": [],
   "source": [
    "statevector_y_plus.draw('Bloch')"
   ]
  },
  {
   "cell_type": "markdown",
   "id": "9256585f-ded6-4012-b599-d9d9ede62bb5",
   "metadata": {},
   "source": [
    "<div style=\"background-color:#c8e6c9\">\n",
    "<hr>\n",
    "<b>Ejercicio:</b>\n",
    "    \n",
    "  Explora otras maneras de generar el vector de estado:    \n",
    "- A partir de un entero indicando en nº de vector de la base computacional $\\{|0\\rangle, |1\\rangle, |2\\rangle ... \\}$\n",
    "- A partir de una etiqueta como '0','1' (base computacional),'+','-', (base X), 'r','l' (base Y)\n",
    "\n",
    "Juega en estos casos con el parámetro de dimensión\n",
    "<hr>\n",
    "</div>"
   ]
  },
  {
   "cell_type": "markdown",
   "id": "8d1921b2-4b70-4959-9978-888afc40daa8",
   "metadata": {},
   "source": [
    "<a id='sec_Notebooks_Vectores_y_Bloch_4'></a>\n",
    "## Producto tensorial (de Kronecker)"
   ]
  },
  {
   "cell_type": "code",
   "execution_count": null,
   "id": "8b677d21-8a76-4ff6-ba66-869a863e3ce5",
   "metadata": {},
   "outputs": [],
   "source": [
    "# Definimos una función para visualizar el estado y la esfera a la vez\n",
    "# Permite escalar la(s) esferas(s) con 'inches' pulgadas, si este parámetro\n",
    "# no se pone, se dibuja al tamaño por defecto\n",
    "# Si se pone 0, no se dibuja la esfera\n",
    "def my_display_state_vector(psi, inches=None):\n",
    "    d_latex = psi.draw('latex', prefix=r\"|\\psi\\rangle = \")\n",
    "    display(d_latex)\n",
    "    #\n",
    "    d_bloch = psi.draw('bloch')\n",
    "    if isinstance(inches, (int,float)):\n",
    "        if inches > 0:\n",
    "            d_bloch.set_size_inches(inches, inches, forward=True)\n",
    "            display(d_bloch)\n",
    "    else:\n",
    "        display(d_bloch)\n",
    "\n",
    "# Generamos dos vectores de estado\n",
    "v1 = np.array([-1, 0.5])\n",
    "v2 = np.array([1, 1-1j])\n",
    "s1 = Statevector(v1/la.norm(v1))\n",
    "s2 = Statevector(v2/la.norm(v2))\n",
    "                \n",
    "my_display_state_vector(s1, 2)\n",
    "my_display_state_vector(s2, 2)"
   ]
  },
  {
   "cell_type": "code",
   "execution_count": null,
   "id": "79f1a49c-0637-468b-86c6-8f46a096ccb6",
   "metadata": {},
   "outputs": [],
   "source": [
    "# Vamos a ver diferentes formas de realizar el producto de kronecker\n",
    "\n",
    "# La primera, usando el operador circunflejo ^\n",
    "sc1 = s1 ^ s2\n",
    "sc2 = s1 ^ s2 ^ s2\n",
    "\n",
    "# Dibujar las multiesferas\n",
    "my_display_state_vector(sc1,3)\n",
    "my_display_state_vector(sc2,4.25)"
   ]
  },
  {
   "cell_type": "markdown",
   "id": "61e59b64-ed27-408a-acec-43d46725d4bc",
   "metadata": {},
   "source": [
    "<div style=\"background-color:#c8e6c9\">\n",
    "<hr>\n",
    "<b>Ejercicio:</b>\n",
    "    \n",
    "Observa las esferas de Bloch y el producto realizado:\n",
    "- ¿en qué orden de numeración están los qubits en el estado computesto?\n",
    "- ¿cuál es el más significativo (MSB) y el menos significativo (LSB?\n",
    "<hr>\n",
    "</div>"
   ]
  },
  {
   "cell_type": "code",
   "execution_count": null,
   "id": "c1b2acaa-3c50-4acf-b0c4-6f6198b29a74",
   "metadata": {},
   "outputs": [],
   "source": [
    "# Usando el método tensor()\n",
    "#  self.tensor(other) = kron(self, other)\n",
    "\n",
    "sc1_t = s1.tensor(s2)\n",
    "sc2_t = s1.tensor(s2.tensor(s2))\n",
    "\n",
    "my_display_state_vector(sc1_t, 0)\n",
    "my_display_state_vector(sc2_t, 0)\n"
   ]
  },
  {
   "cell_type": "code",
   "execution_count": null,
   "id": "97647fd4-09a7-4ae9-b17a-d3d0cd3d7b64",
   "metadata": {},
   "outputs": [],
   "source": [
    "# Usando el método expand()\n",
    "#   self.expand(other) = kron(other,self)\n",
    "\n",
    "sc1_e = s2.expand(s1)\n",
    "sc2_e = (s2.expand(s2)).expand(s1)\n",
    "\n",
    "my_display_state_vector(sc1_e, 0)\n",
    "my_display_state_vector(sc2_e, 0)\n"
   ]
  },
  {
   "cell_type": "code",
   "execution_count": null,
   "id": "4a44b695-fc5d-4ef5-9148-bb79ee275984",
   "metadata": {},
   "outputs": [],
   "source": [
    "# Comprobemos que todas las formas de calcular el producto\n",
    "# tensorial dan el mismo resultado\n",
    "\n",
    "assert(sc1 == sc1_e)\n",
    "assert(sc2 == sc2_e)\n",
    "assert(sc1 == sc1_t)\n",
    "assert(sc2 == sc2_t)"
   ]
  },
  {
   "cell_type": "markdown",
   "id": "894eb578-0856-48aa-bbbc-8da3a6cc4038",
   "metadata": {},
   "source": [
    "<div style=\"background-color:#c8e6c9\">\n",
    "<hr>\n",
    "<b>Ejercicio:</b>\n",
    "    \n",
    "La **descomposición de Schmidt** nos proporciona un criterio para saber si un estado perteneciente a un espacio bipartito $H=H_A \\otimes H_B$ es **factorizable** o **entrelazado**.\n",
    "\n",
    "En quiskit se puede realizar dicha descomposición con este método: https://docs.quantum.ibm.com/api/qiskit/0.46/quantum_info#schmidt_decomposition\n",
    "\n",
    "Considera que $H$ es de dimensión 4 (2 qubits), producto tensorial de dos espacios de dimensión 2 (1 qubit cada uno):\n",
    "\n",
    "- Genera varios vectores de $H$ con el producto tensorial y comprueba que la descomposición de Schmidt nos indica que son factorizables.\n",
    "\n",
    "- Construye también otros vectores de $H$ que no séan factorizables (un truco puede ser eliminando componentes de uno vectorizable, aunque no es condición suficiente). Comprueba que la factorización de Schmidt así lo indica.\n",
    "\n",
    "<b> <font size=\"+1\"><span style=\"color:red\">[OPCIONAL, PARA OPTAR A NOTA] </span></font></b>\n",
    "\n",
    "Si se tiene que el espacio de trabalo, $H_n$, es de dimensión $2^n$ (n qubits) producto tensorial de $n$ espacios de dimensión 2 (1 qubit cada uno) $H_n = H_1^{\\otimes n}$ con $H_1$ de dimension 2:\n",
    "\n",
    "- Razona, ¿cómo podríamos usar, en este caso, la descomposición de Schmidt para saber si un estado de $n$ qubits es entrelazado?\n",
    "\n",
    "- Explica cómo lo harías y qué complejidad computacional implica. No hace falta desarrollar el código, sólo explicar qué habría que hacer.\n",
    "\n",
    "<hr>\n",
    "</div>"
   ]
  },
  {
   "cell_type": "markdown",
   "id": "0a2ecfc5-6c8d-41c2-99dd-4ba30146db52",
   "metadata": {},
   "source": [
    "<a id='sec_Notebooks_Vectores_y_Bloch_5'></a>\n",
    "## Representación estados no factorizables\n",
    "\n",
    "Veamos cómo se pueden representar los estados no factorizables _(entangled)_ visualmente."
   ]
  },
  {
   "cell_type": "code",
   "execution_count": null,
   "id": "e16d3113-543d-4fe2-8e37-edacae0248c7",
   "metadata": {},
   "outputs": [],
   "source": [
    "e0 = Statevector([1, 0], dims=2)  # dims indica la dimensión del estado\n",
    "e1 = Statevector([0, 1], dims=2)\n",
    "\n",
    "ebell = ((e0^e0)+(e1^e1))/np.sqrt(2)\n",
    "# Alternativa\n",
    "#ebell = Statevector([1/sqrt(2), 0, 0, 1/sqrt(2)])\n",
    "\n",
    "# Como hay entanglement, ¿se pueden representar los qubits por separado?\n",
    "# Observa el resultado de la(s) esfera(s) de Bloch\n",
    "my_display_state_vector(ebell,3)"
   ]
  },
  {
   "cell_type": "code",
   "execution_count": null,
   "id": "f2077868-7fba-4f53-a065-1f9f9a307625",
   "metadata": {},
   "outputs": [],
   "source": [
    "# En estos casos, una forma de visualizar el estado (en Qiskit)\n",
    "# es usando una Q-esfera.\n",
    "#\n",
    "# Cada amplitud se representa por un circulo, cuyo diámetro es proporcional a\n",
    "# la magnitud de la amplitud. La fase se representa mediante un código de colores.\n",
    "display(plot_state_qsphere(ebell, figsize=(4,4)))"
   ]
  },
  {
   "cell_type": "code",
   "execution_count": null,
   "id": "05ad5e24-7d79-48d6-a689-6ba8d9547c34",
   "metadata": {},
   "outputs": [],
   "source": [
    "# Mostremos la Q-sphere de un estado con aspecto extraño\n",
    "eplus = e0 + (2+2j)*e1\n",
    "eleftminus = Statevector.from_label('l') + Statevector.from_label('-')\n",
    "strangestate = eplus^ebell^eleftminus\n",
    "strangestate = strangestate/la.norm(strangestate)\n",
    "display(strangestate.draw('latex'))\n",
    "plot_state_qsphere(strangestate, figsize=(4,4))"
   ]
  },
  {
   "cell_type": "code",
   "execution_count": null,
   "id": "04279290-b0ea-48a4-a0c9-573d3bf4785a",
   "metadata": {},
   "outputs": [],
   "source": []
  }
 ],
 "metadata": {
  "kernelspec": {
   "display_name": "Python 3 (ipykernel)",
   "language": "python",
   "name": "python3"
  },
  "language_info": {
   "codemirror_mode": {
    "name": "ipython",
    "version": 3
   },
   "file_extension": ".py",
   "mimetype": "text/x-python",
   "name": "python",
   "nbconvert_exporter": "python",
   "pygments_lexer": "ipython3",
   "version": "3.12.5"
  }
 },
 "nbformat": 4,
 "nbformat_minor": 5
}
